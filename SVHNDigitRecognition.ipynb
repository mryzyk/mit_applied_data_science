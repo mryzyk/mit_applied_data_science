{
  "cells": [
    {
      "cell_type": "markdown",
      "metadata": {
        "id": "Q91KqmCRu64D"
      },
      "source": [
        "# **Deep Learning Project: Street View Housing Number Digit Recognition**\n",
        "\n",
        "# **Marks: 60**\n",
        "\n",
        "--------------\n",
        "## **Context**\n",
        "--------------\n",
        "\n",
        "One of the most interesting tasks in deep learning is to recognize objects in natural scenes. The ability to process visual information using machine learning algorithms can be very useful as demonstrated in various applications.\n",
        "\n",
        "The SVHN dataset contains over 600,000 labeled digits cropped from street-level photos. It is one of the most popular image recognition datasets. It has been used in neural networks created by Google to improve the map quality by automatically transcribing the address numbers from a patch of pixels. The transcribed number with a known street address helps pinpoint the location of the building it represents.\n",
        "\n",
        "----------------\n",
        "## **Objective**\n",
        "----------------\n",
        "\n",
        "Our objective is to predict the number depicted inside the image by using Artificial or Fully Connected Feed Forward Neural Networks and Convolutional Neural Networks. We will go through various models of each and finally select the one that is giving us the best performance.\n",
        "\n",
        "-------------\n",
        "## **Dataset**\n",
        "-------------\n",
        "Here, we will use a subset of the original data to save some computation time. The dataset is provided as a .h5 file. The basic preprocessing steps have been applied on the dataset."
      ]
    },
    {
      "cell_type": "markdown",
      "metadata": {
        "id": "8z2Z7-OAs8QG"
      },
      "source": [
        "## **Mount the drive**\n",
        "\n",
        "Let us start by mounting the Google drive. You can run the below cell to mount the Google drive."
      ]
    },
    {
      "cell_type": "code",
      "execution_count": null,
      "metadata": {
        "id": "03lDyQUuef7z"
      },
      "outputs": [],
      "source": [
        "from google.colab import drive\n",
        "drive.mount('/content/drive')"
      ]
    },
    {
      "cell_type": "markdown",
      "metadata": {
        "id": "C8U3DUa3eNsT"
      },
      "source": [
        "## **Importing the necessary libraries**"
      ]
    },
    {
      "cell_type": "code",
      "execution_count": 2,
      "metadata": {
        "id": "-dVzeuF3eQx1"
      },
      "outputs": [],
      "source": [
        "import numpy as np\n",
        "import pandas as pd\n",
        "import matplotlib.pyplot as plt\n",
        "import os\n",
        "import zipfile\n",
        "import h5py\n",
        "\n",
        "# For Data Visualization\n",
        "import cv2\n",
        "import seaborn as sns\n",
        "\n",
        "# For Model Building\n",
        "import tensorflow as tf\n",
        "import keras\n",
        "from tensorflow.keras.models import Sequential, Model # Sequential API for sequential model\n",
        "from tensorflow.keras.layers import Dense, Dropout, Flatten # Importing different layers\n",
        "from tensorflow.keras.layers import Conv2D, MaxPooling2D, BatchNormalization, Activation, Input, LeakyReLU, Activation\n",
        "from tensorflow.keras import backend\n",
        "from tensorflow.keras.utils import to_categorical # To perform one-hot encoding\n",
        "from tensorflow.keras.optimizers import RMSprop, Adam, SGD # Optimizers for optimizing the model\n",
        "from tensorflow.keras.callbacks import EarlyStopping  # Regularization method to prevent the overfitting\n",
        "from tensorflow.keras.callbacks import ModelCheckpoint\n",
        "from tensorflow.keras import losses, optimizers"
      ]
    },
    {
      "cell_type": "markdown",
      "metadata": {
        "id": "ucnevGLoyKf_"
      },
      "source": [
        "**Let us check the version of tensorflow.**"
      ]
    },
    {
      "cell_type": "code",
      "execution_count": 4,
      "metadata": {
        "id": "W5as47YxyJVk",
        "colab": {
          "base_uri": "https://localhost:8080/",
          "height": 36
        },
        "outputId": "462050fa-afc8-443a-868e-6049de17a1b0"
      },
      "outputs": [
        {
          "output_type": "execute_result",
          "data": {
            "text/plain": [
              "'2.12.0'"
            ],
            "application/vnd.google.colaboratory.intrinsic+json": {
              "type": "string"
            }
          },
          "metadata": {},
          "execution_count": 4
        }
      ],
      "source": [
        "# Checking the version of Tensorflow\n",
        "\n",
        "tf.__version__"
      ]
    },
    {
      "cell_type": "markdown",
      "metadata": {
        "id": "8lsux2ZwyTTR"
      },
      "source": [
        "## **Load the dataset**\n",
        "\n",
        "- Let us now load the dataset that is available as a .h5 file.\n",
        "- Split the data into the train and the test dataset."
      ]
    },
    {
      "cell_type": "code",
      "execution_count": 26,
      "metadata": {
        "id": "BApX9qgNsqV0",
        "scrolled": true
      },
      "outputs": [],
      "source": [
        "# Load the .h5 file\n",
        "file_path = '/content/SVHN_single_grey1.h5'\n",
        "\n",
        "def print_attrs(name, obj):\n",
        "    if isinstance(obj, h5py.Dataset):\n",
        "      print(name)\n",
        "\n",
        "with h5py.File(file_path, 'r') as hf:\n",
        "    # hf.visititems(print_attrs)\n",
        "\n",
        "    X_train = hf['X_train']\n",
        "    X_train = X_train[:]\n",
        "    X_test = hf['X_test']\n",
        "    X_test = X_test[:]\n",
        "    X_val = hf['X_val']\n",
        "    X_val = X_val[:]\n",
        "\n",
        "    y_train = hf['y_train']\n",
        "    y_train = y_train[:]\n",
        "    y_test = hf['y_test']\n",
        "    y_test = y_test[:]\n",
        "    y_val = hf['y_val']\n",
        "    y_val = y_val[:]\n",
        "\n"
      ]
    },
    {
      "cell_type": "markdown",
      "metadata": {
        "id": "hVe0CYpUgj7w"
      },
      "source": [
        "Check the number of images in the training and the testing dataset."
      ]
    },
    {
      "cell_type": "code",
      "execution_count": 29,
      "metadata": {
        "id": "y3lwKpOefkpA",
        "colab": {
          "base_uri": "https://localhost:8080/"
        },
        "outputId": "acfb9ea2-1995-4cec-a14c-13b48366dc28"
      },
      "outputs": [
        {
          "output_type": "execute_result",
          "data": {
            "text/plain": [
              "((42000, 32, 32),\n",
              " (18000, 32, 32),\n",
              " (42000,),\n",
              " (18000,),\n",
              " (60000, 32, 32),\n",
              " (60000,))"
            ]
          },
          "metadata": {},
          "execution_count": 29
        }
      ],
      "source": [
        "X_train.shape, X_test.shape, y_train.shape, y_test.shape, X_val.shape, y_val.shape"
      ]
    },
    {
      "cell_type": "code",
      "source": [
        "y_train"
      ],
      "metadata": {
        "colab": {
          "base_uri": "https://localhost:8080/"
        },
        "id": "alJ3ePq19AwV",
        "outputId": "cbc87e5d-74bd-46fa-a7e0-e4417176004c"
      },
      "execution_count": 30,
      "outputs": [
        {
          "output_type": "execute_result",
          "data": {
            "text/plain": [
              "array([2, 6, 7, ..., 7, 0, 4], dtype=uint8)"
            ]
          },
          "metadata": {},
          "execution_count": 30
        }
      ]
    },
    {
      "cell_type": "markdown",
      "metadata": {
        "id": "akTUOfLlgwoM"
      },
      "source": [
        "**Observation:**\n",
        "1. there are 42000 images of SVHN in the training data set\n",
        "2. there are 18000 images of SVHN in the testing data set\n",
        "3. image size is 32 by 32 pixels\n",
        "4. images are labeled into 10 categories: numbers from 0 - 9\n",
        "5. there is also train and test validation set containing 60000 images,of sane size, i.e. 32 by 32"
      ]
    },
    {
      "cell_type": "markdown",
      "metadata": {
        "id": "kxODV6HKykuc"
      },
      "source": [
        "## **Visualizing images**\n",
        "\n",
        "- Use X_train to visualize the first 10 images.\n",
        "- Use Y_train to print the first 10 labels."
      ]
    },
    {
      "cell_type": "code",
      "source": [
        "# Let's visualize the dataset\n",
        "\n",
        "import matplotlib.pyplot as plt\n",
        "\n",
        "class_names_list = np.unique(y_train)\n",
        "\n",
        "plt.figure(figsize = (12, 4))\n",
        "\n",
        "# showing 10 first images from the train data set with the corresponding label\n",
        "for i in range(10):\n",
        "\n",
        "    plt.subplot(2, 5, i + 1)\n",
        "\n",
        "    plt.xticks([])\n",
        "\n",
        "    plt.yticks([])\n",
        "\n",
        "    plt.grid(False)\n",
        "\n",
        "    plt.imshow(X_train[i], cmap = plt.cm.binary)\n",
        "\n",
        "    plt.xlabel(class_names_list[y_train[i]])\n",
        "\n",
        "plt.show()"
      ],
      "metadata": {
        "colab": {
          "base_uri": "https://localhost:8080/",
          "height": 364
        },
        "id": "16n1u566_ztN",
        "outputId": "ae1d0970-c82b-45cd-fe94-a6c7638987dc"
      },
      "execution_count": 152,
      "outputs": [
        {
          "output_type": "display_data",
          "data": {
            "text/plain": [
              "<Figure size 1200x400 with 10 Axes>"
            ],
            "image/png": "[encoded data removed]"
          },
          "metadata": {}
        }
      ]
    },
    {
      "cell_type": "code",
      "source": [
        "# Plot distribution of each category\n",
        "count_plot = sns.countplot(x=y_train)"
      ],
      "metadata": {
        "colab": {
          "base_uri": "https://localhost:8080/",
          "height": 430
        },
        "id": "lEyo6qvBDLvJ",
        "outputId": "5470c054-11b6-40d4-9428-c23d88ace03a"
      },
      "execution_count": 67,
      "outputs": [
        {
          "output_type": "display_data",
          "data": {
            "text/plain": [
              "<Figure size 640x480 with 1 Axes>"
            ],
            "image/png": "[encoded data removed]"
          },
          "metadata": {}
        }
      ]
    },
    {
      "cell_type": "markdown",
      "metadata": {
        "id": "kzoyeXHOy80N"
      },
      "source": [
        "## **Data preparation**\n",
        "\n",
        "- Print the shape and the array of pixels for the first image in the training dataset.\n",
        "- Normalize the train and the test dataset by dividing by 255.\n",
        "- Print the new shapes of the train and the test dataset.\n",
        "- One-hot encode the target variable."
      ]
    },
    {
      "cell_type": "code",
      "execution_count": 61,
      "metadata": {
        "id": "NqndzQXng9rL",
        "colab": {
          "base_uri": "https://localhost:8080/"
        },
        "outputId": "59bb4f03-9682-4619-a713-5fc8839e1dca"
      },
      "outputs": [
        {
          "output_type": "execute_result",
          "data": {
            "text/plain": [
              "(32, 32)"
            ]
          },
          "metadata": {},
          "execution_count": 61
        }
      ],
      "source": [
        "X_train[0].shape  # shape of first image"
      ]
    },
    {
      "cell_type": "code",
      "source": [
        "X_train[0]  # array of pixels in the first image"
      ],
      "metadata": {
        "colab": {
          "base_uri": "https://localhost:8080/"
        },
        "id": "TW5_pHA9BsqD",
        "outputId": "fd785d5e-15cb-45b1-cb52-28b7c2841424"
      },
      "execution_count": 62,
      "outputs": [
        {
          "output_type": "execute_result",
          "data": {
            "text/plain": [
              "array([[ 33.0704,  30.2601,  26.852 , ...,  71.4471,  58.2204,  42.9939],\n",
              "       [ 25.2283,  25.5533,  29.9765, ..., 113.0209, 103.3639,  84.2949],\n",
              "       [ 26.2775,  22.6137,  40.4763, ..., 113.3028, 121.775 , 115.4228],\n",
              "       ...,\n",
              "       [ 28.5502,  36.212 ,  45.0801, ...,  24.1359,  25.0927,  26.0603],\n",
              "       [ 38.4352,  26.4733,  23.2717, ...,  28.1094,  29.4683,  30.0661],\n",
              "       [ 50.2984,  26.0773,  24.0389, ...,  49.6682,  50.853 ,  53.0377]],\n",
              "      dtype=float32)"
            ]
          },
          "metadata": {},
          "execution_count": 62
        }
      ]
    },
    {
      "cell_type": "markdown",
      "metadata": {
        "id": "f4CQkKtQ0XII"
      },
      "source": [
        "### **Normalize the train and the test data**"
      ]
    },
    {
      "cell_type": "code",
      "execution_count": 68,
      "metadata": {
        "id": "q_yUUTp_mUzB"
      },
      "outputs": [],
      "source": [
        "X_train_norm = X_train/255.0\n",
        "X_test_norm = X_test/255.0"
      ]
    },
    {
      "cell_type": "markdown",
      "metadata": {
        "id": "YSlYN6pb8kMY"
      },
      "source": [
        "Print the shapes of Training and Test data"
      ]
    },
    {
      "cell_type": "code",
      "execution_count": 70,
      "metadata": {
        "id": "t7FSqOpamWkH",
        "colab": {
          "base_uri": "https://localhost:8080/"
        },
        "outputId": "e9250d8e-05dd-4bb0-f025-41cf38acdb13"
      },
      "outputs": [
        {
          "output_type": "execute_result",
          "data": {
            "text/plain": [
              "((42000, 32, 32), (18000, 32, 32))"
            ]
          },
          "metadata": {},
          "execution_count": 70
        }
      ],
      "source": [
        "X_train_norm.shape, X_test_norm.shape"
      ]
    },
    {
      "cell_type": "markdown",
      "metadata": {
        "id": "0uLxXBpz81vk"
      },
      "source": [
        "### **One-hot encode output**"
      ]
    },
    {
      "cell_type": "code",
      "execution_count": 65,
      "metadata": {
        "id": "zL0lYER4sqWw"
      },
      "outputs": [],
      "source": [
        "# create one-hot encoded vectors for the target variable\n",
        "\n",
        "y_train_encoded = to_categorical(y_train)\n",
        "\n",
        "y_test_encoded = to_categorical(y_test)"
      ]
    },
    {
      "cell_type": "code",
      "source": [
        "y_train_encoded"
      ],
      "metadata": {
        "colab": {
          "base_uri": "https://localhost:8080/"
        },
        "id": "VFW5-lhrC18D",
        "outputId": "4a6bb505-ac89-4862-e060-f860c3530292"
      },
      "execution_count": 66,
      "outputs": [
        {
          "output_type": "execute_result",
          "data": {
            "text/plain": [
              "array([[0., 0., 1., ..., 0., 0., 0.],\n",
              "       [0., 0., 0., ..., 0., 0., 0.],\n",
              "       [0., 0., 0., ..., 1., 0., 0.],\n",
              "       ...,\n",
              "       [0., 0., 0., ..., 1., 0., 0.],\n",
              "       [1., 0., 0., ..., 0., 0., 0.],\n",
              "       [0., 0., 0., ..., 0., 0., 0.]], dtype=float32)"
            ]
          },
          "metadata": {},
          "execution_count": 66
        }
      ]
    },
    {
      "cell_type": "markdown",
      "metadata": {
        "id": "ViqPOTquCF76"
      },
      "source": [
        "**Observation:**\n",
        "1. each of the X_train and X_test array of pixels was normalized by dividing by 255, so all pixel values are between 0 and 1\n",
        "2. training and testing labels have been One Hot encoded, i.e. they were changed from single digit to an array of length 10, with the value at index equal to label set to 1, and all others set to 0\n",
        "3. the number of samples for each category/label is similar, there are no imbalances present in the training data set"
      ]
    },
    {
      "cell_type": "markdown",
      "metadata": {
        "id": "yH-gVrzuByNA"
      },
      "source": [
        "## **Model Building**\n",
        "\n",
        "Now that we have done the data preprocessing, let's build an ANN model.\n",
        "\n",
        "### Fix the seed for random number generators"
      ]
    },
    {
      "cell_type": "code",
      "execution_count": 72,
      "metadata": {
        "id": "BcKRwrGn0XIL"
      },
      "outputs": [],
      "source": [
        "from tensorflow.keras import backend\n",
        "backend.clear_session()\n",
        "\n",
        "# Fixing the seed for random number generators so that we can ensure we receive the same output everytime\n",
        "np.random.seed(42)\n",
        "import random\n",
        "random.seed(42)\n",
        "tf.random.set_seed(42)"
      ]
    },
    {
      "cell_type": "markdown",
      "metadata": {
        "id": "UJDUoaEj1d6e"
      },
      "source": [
        "### **Model Architecture**\n",
        "- Write a function that returns a sequential model with the following architecture:\n",
        " - First hidden layer with **64 nodes and the relu activation** and the **input shape = (1024, )**\n",
        " - Second hidden layer with **32 nodes and the relu activation**\n",
        " - Output layer with **activation as 'softmax' and number of nodes equal to the number of classes, i.e., 10**\n",
        " - Compile the model with the **loss equal to categorical_crossentropy, optimizer equal to Adam(learning_rate = 0.001), and metric equal to 'accuracy'**. Do not fit the model here, just return the compiled model.\n",
        "- Call the nn_model_1 function and store the model in a new variable.\n",
        "- Print the summary of the model.\n",
        "- Fit on the train data with a **validation split of 0.2, batch size = 128, verbose = 1, and epochs = 20**. Store the model building history to use later for visualization."
      ]
    },
    {
      "cell_type": "markdown",
      "metadata": {
        "id": "A48z6ucF0XIP"
      },
      "source": [
        "### **Build and train an ANN model as per the above mentioned architecture.**"
      ]
    },
    {
      "cell_type": "code",
      "execution_count": 73,
      "metadata": {
        "id": "Cmi81Gr5sqW-"
      },
      "outputs": [],
      "source": [
        "# Initialize a sequential model\n",
        "model_1 = Sequential()\n",
        "# Adding Flatten layer\n",
        "model_1.add(Flatten(input_shape = (32, 32)))\n",
        "# Dense Layers\n",
        "model_1.add(Dense(64, activation = 'relu'))\n",
        "model_1.add(Dense(32, activation = 'relu'))\n",
        "model_1.add(Dense(10, activation = 'softmax'))"
      ]
    },
    {
      "cell_type": "code",
      "source": [
        "# Compile the model with the loss equal to categorical_crossentropy, optimizer equal to Adam(learning_rate = 0.001), and metric equal to 'accuracy'\n",
        "model_1.compile(optimizer = 'adam', loss = 'categorical_crossentropy',  metrics = ['accuracy'])"
      ],
      "metadata": {
        "id": "Mm9PXHOwLWI4"
      },
      "execution_count": 75,
      "outputs": []
    },
    {
      "cell_type": "code",
      "source": [
        "nn_model_1 = model_1"
      ],
      "metadata": {
        "id": "Eh086hyiMBzu"
      },
      "execution_count": 76,
      "outputs": []
    },
    {
      "cell_type": "code",
      "source": [
        "nn_model_1.summary()"
      ],
      "metadata": {
        "colab": {
          "base_uri": "https://localhost:8080/"
        },
        "id": "8fNM_-azMXMO",
        "outputId": "2bb2788e-4c3d-43c7-99fb-39a71bc30b59"
      },
      "execution_count": 79,
      "outputs": [
        {
          "output_type": "stream",
          "name": "stdout",
          "text": [
            "Model: \"sequential\"\n",
            "_________________________________________________________________\n",
            " Layer (type)                Output Shape              Param #   \n",
            "=================================================================\n",
            " flatten (Flatten)           (None, 1024)              0         \n",
            "                                                                 \n",
            " dense (Dense)               (None, 64)                65600     \n",
            "                                                                 \n",
            " dense_1 (Dense)             (None, 32)                2080      \n",
            "                                                                 \n",
            " dense_2 (Dense)             (None, 10)                330       \n",
            "                                                                 \n",
            "=================================================================\n",
            "Total params: 68010 (265.66 KB)\n",
            "Trainable params: 68010 (265.66 KB)\n",
            "Non-trainable params: 0 (0.00 Byte)\n",
            "_________________________________________________________________\n"
          ]
        }
      ]
    },
    {
      "cell_type": "code",
      "source": [
        "hist_nn_model_1 =nn_model_1.fit(X_train_norm, y_train_encoded,\n",
        "          validation_split=0.2,\n",
        "          epochs=20,\n",
        "          batch_size=128,verbose=1)"
      ],
      "metadata": {
        "colab": {
          "base_uri": "https://localhost:8080/"
        },
        "id": "MxY15NzaMyTM",
        "outputId": "6a0a2e73-dd1d-49b8-d0ed-3ca2a3160772"
      },
      "execution_count": 80,
      "outputs": [
        {
          "output_type": "stream",
          "name": "stdout",
          "text": [
            "Epoch 1/20\n",
            "263/263 [==============================] - 3s 5ms/step - loss: 2.2934 - accuracy: 0.1233 - val_loss: 2.2324 - val_accuracy: 0.1744\n",
            "Epoch 2/20\n",
            "263/263 [==============================] - 1s 4ms/step - loss: 2.0774 - accuracy: 0.2509 - val_loss: 1.9318 - val_accuracy: 0.3089\n",
            "Epoch 3/20\n",
            "263/263 [==============================] - 1s 4ms/step - loss: 1.8679 - accuracy: 0.3405 - val_loss: 1.7779 - val_accuracy: 0.3869\n",
            "Epoch 4/20\n",
            "263/263 [==============================] - 1s 4ms/step - loss: 1.6573 - accuracy: 0.4391 - val_loss: 1.5288 - val_accuracy: 0.4907\n",
            "Epoch 5/20\n",
            "263/263 [==============================] - 1s 4ms/step - loss: 1.4635 - accuracy: 0.5180 - val_loss: 1.4202 - val_accuracy: 0.5255\n",
            "Epoch 6/20\n",
            "263/263 [==============================] - 1s 5ms/step - loss: 1.3593 - accuracy: 0.5566 - val_loss: 1.3259 - val_accuracy: 0.5749\n",
            "Epoch 7/20\n",
            "263/263 [==============================] - 1s 4ms/step - loss: 1.2905 - accuracy: 0.5834 - val_loss: 1.2542 - val_accuracy: 0.6012\n",
            "Epoch 8/20\n",
            "263/263 [==============================] - 1s 4ms/step - loss: 1.2378 - accuracy: 0.6036 - val_loss: 1.2163 - val_accuracy: 0.6231\n",
            "Epoch 9/20\n",
            "263/263 [==============================] - 1s 4ms/step - loss: 1.1996 - accuracy: 0.6203 - val_loss: 1.1702 - val_accuracy: 0.6332\n",
            "Epoch 10/20\n",
            "263/263 [==============================] - 1s 4ms/step - loss: 1.1659 - accuracy: 0.6332 - val_loss: 1.1446 - val_accuracy: 0.6431\n",
            "Epoch 11/20\n",
            "263/263 [==============================] - 1s 4ms/step - loss: 1.1461 - accuracy: 0.6403 - val_loss: 1.1272 - val_accuracy: 0.6445\n",
            "Epoch 12/20\n",
            "263/263 [==============================] - 1s 4ms/step - loss: 1.1241 - accuracy: 0.6482 - val_loss: 1.1132 - val_accuracy: 0.6525\n",
            "Epoch 13/20\n",
            "263/263 [==============================] - 1s 4ms/step - loss: 1.1016 - accuracy: 0.6580 - val_loss: 1.0940 - val_accuracy: 0.6605\n",
            "Epoch 14/20\n",
            "263/263 [==============================] - 1s 4ms/step - loss: 1.0979 - accuracy: 0.6597 - val_loss: 1.0934 - val_accuracy: 0.6613\n",
            "Epoch 15/20\n",
            "263/263 [==============================] - 1s 4ms/step - loss: 1.0837 - accuracy: 0.6640 - val_loss: 1.0925 - val_accuracy: 0.6668\n",
            "Epoch 16/20\n",
            "263/263 [==============================] - 1s 4ms/step - loss: 1.0715 - accuracy: 0.6680 - val_loss: 1.1215 - val_accuracy: 0.6499\n",
            "Epoch 17/20\n",
            "263/263 [==============================] - 1s 5ms/step - loss: 1.0626 - accuracy: 0.6724 - val_loss: 1.0621 - val_accuracy: 0.6720\n",
            "Epoch 18/20\n",
            "263/263 [==============================] - 1s 5ms/step - loss: 1.0551 - accuracy: 0.6735 - val_loss: 1.0585 - val_accuracy: 0.6726\n",
            "Epoch 19/20\n",
            "263/263 [==============================] - 1s 4ms/step - loss: 1.0476 - accuracy: 0.6751 - val_loss: 1.0558 - val_accuracy: 0.6748\n",
            "Epoch 20/20\n",
            "263/263 [==============================] - 1s 4ms/step - loss: 1.0419 - accuracy: 0.6772 - val_loss: 1.0540 - val_accuracy: 0.6748\n"
          ]
        }
      ]
    },
    {
      "cell_type": "markdown",
      "metadata": {
        "id": "MeF8XSWz0XIU"
      },
      "source": [
        "### **Plot the Training and Validation Accuracies and write down your Observations.**"
      ]
    },
    {
      "cell_type": "code",
      "source": [
        "# Capturing learning history per epoch\n",
        "hist_1  = pd.DataFrame(hist_nn_model_1.history)\n",
        "hist_1['epoch'] = hist_nn_model_1.epoch\n",
        "hist_1.head()"
      ],
      "metadata": {
        "colab": {
          "base_uri": "https://localhost:8080/",
          "height": 206
        },
        "id": "t_mdksI2Nl31",
        "outputId": "b7bdfd5c-af90-4cb2-a985-e9e0a322e771"
      },
      "execution_count": 82,
      "outputs": [
        {
          "output_type": "execute_result",
          "data": {
            "text/plain": [
              "       loss  accuracy  val_loss  val_accuracy  epoch\n",
              "0  2.293355  0.123274  2.232415      0.174405      0\n",
              "1  2.077405  0.250923  1.931829      0.308929      1\n",
              "2  1.867928  0.340536  1.777890      0.386905      2\n",
              "3  1.657313  0.439107  1.528800      0.490714      3\n",
              "4  1.463534  0.518006  1.420237      0.525476      4"
            ],
            "text/html": [
              "\n",
              "  <div id=\"df-7bd78912-f5d7-431a-ade9-871c97728aae\" class=\"colab-df-container\">\n",
              "    <div>\n",
              "<style scoped>\n",
              "    .dataframe tbody tr th:only-of-type {\n",
              "        vertical-align: middle;\n",
              "    }\n",
              "\n",
              "    .dataframe tbody tr th {\n",
              "        vertical-align: top;\n",
              "    }\n",
              "\n",
              "    .dataframe thead th {\n",
              "        text-align: right;\n",
              "    }\n",
              "</style>\n",
              "<table border=\"1\" class=\"dataframe\">\n",
              "  <thead>\n",
              "    <tr style=\"text-align: right;\">\n",
              "      <th></th>\n",
              "      <th>loss</th>\n",
              "      <th>accuracy</th>\n",
              "      <th>val_loss</th>\n",
              "      <th>val_accuracy</th>\n",
              "      <th>epoch</th>\n",
              "    </tr>\n",
              "  </thead>\n",
              "  <tbody>\n",
              "    <tr>\n",
              "      <th>0</th>\n",
              "      <td>2.293355</td>\n",
              "      <td>0.123274</td>\n",
              "      <td>2.232415</td>\n",
              "      <td>0.174405</td>\n",
              "      <td>0</td>\n",
              "    </tr>\n",
              "    <tr>\n",
              "      <th>1</th>\n",
              "      <td>2.077405</td>\n",
              "      <td>0.250923</td>\n",
              "      <td>1.931829</td>\n",
              "      <td>0.308929</td>\n",
              "      <td>1</td>\n",
              "    </tr>\n",
              "    <tr>\n",
              "      <th>2</th>\n",
              "      <td>1.867928</td>\n",
              "      <td>0.340536</td>\n",
              "      <td>1.777890</td>\n",
              "      <td>0.386905</td>\n",
              "      <td>2</td>\n",
              "    </tr>\n",
              "    <tr>\n",
              "      <th>3</th>\n",
              "      <td>1.657313</td>\n",
              "      <td>0.439107</td>\n",
              "      <td>1.528800</td>\n",
              "      <td>0.490714</td>\n",
              "      <td>3</td>\n",
              "    </tr>\n",
              "    <tr>\n",
              "      <th>4</th>\n",
              "      <td>1.463534</td>\n",
              "      <td>0.518006</td>\n",
              "      <td>1.420237</td>\n",
              "      <td>0.525476</td>\n",
              "      <td>4</td>\n",
              "    </tr>\n",
              "  </tbody>\n",
              "</table>\n",
              "</div>\n",
              "    <div class=\"colab-df-buttons\">\n",
              "\n",
              "  <div class=\"colab-df-container\">\n",
              "    <button class=\"colab-df-convert\" onclick=\"convertToInteractive('df-7bd78912-f5d7-431a-ade9-871c97728aae')\"\n",
              "            title=\"Convert this dataframe to an interactive table.\"\n",
              "            style=\"display:none;\">\n",
              "\n",
              "  <svg xmlns=\"http://www.w3.org/2000/svg\" height=\"24px\" viewBox=\"0 -960 960 960\">\n",
              "    <path d=\"M120-120v-720h720v720H120Zm60-500h600v-160H180v160Zm220 220h160v-160H400v160Zm0 220h160v-160H400v160ZM180-400h160v-160H180v160Zm440 0h160v-160H620v160ZM180-180h160v-160H180v160Zm440 0h160v-160H620v160Z\"/>\n",
              "  </svg>\n",
              "    </button>\n",
              "\n",
              "  <style>\n",
              "    .colab-df-container {\n",
              "      display:flex;\n",
              "      gap: 12px;\n",
              "    }\n",
              "\n",
              "    .colab-df-convert {\n",
              "      background-color: #E8F0FE;\n",
              "      border: none;\n",
              "      border-radius: 50%;\n",
              "      cursor: pointer;\n",
              "      display: none;\n",
              "      fill: #1967D2;\n",
              "      height: 32px;\n",
              "      padding: 0 0 0 0;\n",
              "      width: 32px;\n",
              "    }\n",
              "\n",
              "    .colab-df-convert:hover {\n",
              "      background-color: #E2EBFA;\n",
              "      box-shadow: 0px 1px 2px rgba(60, 64, 67, 0.3), 0px 1px 3px 1px rgba(60, 64, 67, 0.15);\n",
              "      fill: #174EA6;\n",
              "    }\n",
              "\n",
              "    .colab-df-buttons div {\n",
              "      margin-bottom: 4px;\n",
              "    }\n",
              "\n",
              "    [theme=dark] .colab-df-convert {\n",
              "      background-color: #3B4455;\n",
              "      fill: #D2E3FC;\n",
              "    }\n",
              "\n",
              "    [theme=dark] .colab-df-convert:hover {\n",
              "      background-color: #434B5C;\n",
              "      box-shadow: 0px 1px 3px 1px rgba(0, 0, 0, 0.15);\n",
              "      filter: drop-shadow(0px 1px 2px rgba(0, 0, 0, 0.3));\n",
              "      fill: #FFFFFF;\n",
              "    }\n",
              "  </style>\n",
              "\n",
              "    <script>\n",
              "      const buttonEl =\n",
              "        document.querySelector('#df-7bd78912-f5d7-431a-ade9-871c97728aae button.colab-df-convert');\n",
              "      buttonEl.style.display =\n",
              "        google.colab.kernel.accessAllowed ? 'block' : 'none';\n",
              "\n",
              "      async function convertToInteractive(key) {\n",
              "        const element = document.querySelector('#df-7bd78912-f5d7-431a-ade9-871c97728aae');\n",
              "        const dataTable =\n",
              "          await google.colab.kernel.invokeFunction('convertToInteractive',\n",
              "                                                    [key], {});\n",
              "        if (!dataTable) return;\n",
              "\n",
              "        const docLinkHtml = 'Like what you see? Visit the ' +\n",
              "          '<a target=\"_blank\" href=https://colab.research.google.com/notebooks/data_table.ipynb>data table notebook</a>'\n",
              "          + ' to learn more about interactive tables.';\n",
              "        element.innerHTML = '';\n",
              "        dataTable['output_type'] = 'display_data';\n",
              "        await google.colab.output.renderOutput(dataTable, element);\n",
              "        const docLink = document.createElement('div');\n",
              "        docLink.innerHTML = docLinkHtml;\n",
              "        element.appendChild(docLink);\n",
              "      }\n",
              "    </script>\n",
              "  </div>\n",
              "\n",
              "\n",
              "<div id=\"df-87d91f90-8400-4216-b58b-0f9c852086c2\">\n",
              "  <button class=\"colab-df-quickchart\" onclick=\"quickchart('df-87d91f90-8400-4216-b58b-0f9c852086c2')\"\n",
              "            title=\"Suggest charts\"\n",
              "            style=\"display:none;\">\n",
              "\n",
              "<svg xmlns=\"http://www.w3.org/2000/svg\" height=\"24px\"viewBox=\"0 0 24 24\"\n",
              "     width=\"24px\">\n",
              "    <g>\n",
              "        <path d=\"M19 3H5c-1.1 0-2 .9-2 2v14c0 1.1.9 2 2 2h14c1.1 0 2-.9 2-2V5c0-1.1-.9-2-2-2zM9 17H7v-7h2v7zm4 0h-2V7h2v10zm4 0h-2v-4h2v4z\"/>\n",
              "    </g>\n",
              "</svg>\n",
              "  </button>\n",
              "\n",
              "<style>\n",
              "  .colab-df-quickchart {\n",
              "      --bg-color: #E8F0FE;\n",
              "      --fill-color: #1967D2;\n",
              "      --hover-bg-color: #E2EBFA;\n",
              "      --hover-fill-color: #174EA6;\n",
              "      --disabled-fill-color: #AAA;\n",
              "      --disabled-bg-color: #DDD;\n",
              "  }\n",
              "\n",
              "  [theme=dark] .colab-df-quickchart {\n",
              "      --bg-color: #3B4455;\n",
              "      --fill-color: #D2E3FC;\n",
              "      --hover-bg-color: #434B5C;\n",
              "      --hover-fill-color: #FFFFFF;\n",
              "      --disabled-bg-color: #3B4455;\n",
              "      --disabled-fill-color: #666;\n",
              "  }\n",
              "\n",
              "  .colab-df-quickchart {\n",
              "    background-color: var(--bg-color);\n",
              "    border: none;\n",
              "    border-radius: 50%;\n",
              "    cursor: pointer;\n",
              "    display: none;\n",
              "    fill: var(--fill-color);\n",
              "    height: 32px;\n",
              "    padding: 0;\n",
              "    width: 32px;\n",
              "  }\n",
              "\n",
              "  .colab-df-quickchart:hover {\n",
              "    background-color: var(--hover-bg-color);\n",
              "    box-shadow: 0 1px 2px rgba(60, 64, 67, 0.3), 0 1px 3px 1px rgba(60, 64, 67, 0.15);\n",
              "    fill: var(--button-hover-fill-color);\n",
              "  }\n",
              "\n",
              "  .colab-df-quickchart-complete:disabled,\n",
              "  .colab-df-quickchart-complete:disabled:hover {\n",
              "    background-color: var(--disabled-bg-color);\n",
              "    fill: var(--disabled-fill-color);\n",
              "    box-shadow: none;\n",
              "  }\n",
              "\n",
              "  .colab-df-spinner {\n",
              "    border: 2px solid var(--fill-color);\n",
              "    border-color: transparent;\n",
              "    border-bottom-color: var(--fill-color);\n",
              "    animation:\n",
              "      spin 1s steps(1) infinite;\n",
              "  }\n",
              "\n",
              "  @keyframes spin {\n",
              "    0% {\n",
              "      border-color: transparent;\n",
              "      border-bottom-color: var(--fill-color);\n",
              "      border-left-color: var(--fill-color);\n",
              "    }\n",
              "    20% {\n",
              "      border-color: transparent;\n",
              "      border-left-color: var(--fill-color);\n",
              "      border-top-color: var(--fill-color);\n",
              "    }\n",
              "    30% {\n",
              "      border-color: transparent;\n",
              "      border-left-color: var(--fill-color);\n",
              "      border-top-color: var(--fill-color);\n",
              "      border-right-color: var(--fill-color);\n",
              "    }\n",
              "    40% {\n",
              "      border-color: transparent;\n",
              "      border-right-color: var(--fill-color);\n",
              "      border-top-color: var(--fill-color);\n",
              "    }\n",
              "    60% {\n",
              "      border-color: transparent;\n",
              "      border-right-color: var(--fill-color);\n",
              "    }\n",
              "    80% {\n",
              "      border-color: transparent;\n",
              "      border-right-color: var(--fill-color);\n",
              "      border-bottom-color: var(--fill-color);\n",
              "    }\n",
              "    90% {\n",
              "      border-color: transparent;\n",
              "      border-bottom-color: var(--fill-color);\n",
              "    }\n",
              "  }\n",
              "</style>\n",
              "\n",
              "  <script>\n",
              "    async function quickchart(key) {\n",
              "      const quickchartButtonEl =\n",
              "        document.querySelector('#' + key + ' button');\n",
              "      quickchartButtonEl.disabled = true;  // To prevent multiple clicks.\n",
              "      quickchartButtonEl.classList.add('colab-df-spinner');\n",
              "      try {\n",
              "        const charts = await google.colab.kernel.invokeFunction(\n",
              "            'suggestCharts', [key], {});\n",
              "      } catch (error) {\n",
              "        console.error('Error during call to suggestCharts:', error);\n",
              "      }\n",
              "      quickchartButtonEl.classList.remove('colab-df-spinner');\n",
              "      quickchartButtonEl.classList.add('colab-df-quickchart-complete');\n",
              "    }\n",
              "    (() => {\n",
              "      let quickchartButtonEl =\n",
              "        document.querySelector('#df-87d91f90-8400-4216-b58b-0f9c852086c2 button');\n",
              "      quickchartButtonEl.style.display =\n",
              "        google.colab.kernel.accessAllowed ? 'block' : 'none';\n",
              "    })();\n",
              "  </script>\n",
              "</div>\n",
              "    </div>\n",
              "  </div>\n"
            ]
          },
          "metadata": {},
          "execution_count": 82
        }
      ]
    },
    {
      "cell_type": "code",
      "execution_count": 86,
      "metadata": {
        "id": "lt77zgGMP4yw",
        "colab": {
          "base_uri": "https://localhost:8080/",
          "height": 472
        },
        "outputId": "41b0b9f7-433f-4d3a-d967-03d7f038aadc"
      },
      "outputs": [
        {
          "output_type": "display_data",
          "data": {
            "text/plain": [
              "<Figure size 640x480 with 1 Axes>"
            ],
            "image/png": "[encoded data removed]"
          },
          "metadata": {}
        }
      ],
      "source": [
        "# Plotting accuracy at different epochs\n",
        "plt.plot(hist_1['accuracy'])\n",
        "plt.plot(hist_1['val_accuracy'])\n",
        "plt.title('Model Accuracy')\n",
        "plt.ylabel('Accuracy')\n",
        "plt.xlabel('Epoch')\n",
        "plt.legend(['Train', 'Validation'], loc='upper left')\n",
        "plt.show()"
      ]
    },
    {
      "cell_type": "markdown",
      "metadata": {
        "id": "pGBbQpLONX7k"
      },
      "source": [
        "**Observations:**\n",
        "1. Model has performed similarly on both train and validation set\n",
        "2. Model performance is not very good with accuracy reaching almost 68% after 20 epochs"
      ]
    },
    {
      "cell_type": "markdown",
      "metadata": {
        "id": "z0qgLMBZm5-K"
      },
      "source": [
        "Let's build one more model with higher complexity and see if we can improve the performance of the model.\n",
        "\n",
        "First, we need to clear the previous model's history from the Keras backend. Also, let's fix the seed again after clearing the backend."
      ]
    },
    {
      "cell_type": "code",
      "execution_count": 99,
      "metadata": {
        "id": "I_ih3wEU9wIk"
      },
      "outputs": [],
      "source": [
        "from tensorflow.keras import backend\n",
        "backend.clear_session()\n",
        "\n",
        "# Fixing the seed for random number generators so that we can ensure we receive the same output everytime\n",
        "np.random.seed(42)\n",
        "import random\n",
        "random.seed(42)\n",
        "tf.random.set_seed(42)"
      ]
    },
    {
      "cell_type": "markdown",
      "metadata": {
        "id": "lT6o3TIKuCtk"
      },
      "source": [
        "### **Second Model Architecture**\n",
        "- Write a function that returns a sequential model with the following architecture:\n",
        " - First hidden layer with **256 nodes and the relu activation** and the **input shape = (1024, )**\n",
        " - Second hidden layer with **128 nodes and the relu activation**\n",
        " - Add the **Dropout layer with the rate equal to 0.2**\n",
        " - Third hidden layer with **64 nodes and the relu activation**\n",
        " - Fourth hidden layer with **64 nodes and the relu activation**\n",
        " - Fifth hidden layer with **32 nodes and the relu activation**\n",
        " - Add the **BatchNormalization layer**\n",
        " - Output layer with **activation as 'softmax' and number of nodes equal to the number of classes, i.e., 10**\n",
        " -Compile the model with the **loss equal to categorical_crossentropy, optimizer equal to Adam(learning_rate = 0.0005), and metric equal to 'accuracy'**. Do not fit the model here, just return the compiled model.\n",
        "- Call the nn_model_2 function and store the model in a new variable.\n",
        "- Print the summary of the model.\n",
        "- Fit on the train data with a **validation split of 0.2, batch size = 128, verbose = 1, and epochs = 30**. Store the model building history to use later for visualization."
      ]
    },
    {
      "cell_type": "markdown",
      "metadata": {
        "id": "f-ZjNBmH0XIV"
      },
      "source": [
        "### **Build and train the new ANN model as per the above mentioned architecture**"
      ]
    },
    {
      "cell_type": "code",
      "execution_count": 100,
      "metadata": {
        "id": "EEPYLFIPnSDP"
      },
      "outputs": [],
      "source": [
        "# Initialize a sequential model\n",
        "nn_model_2 = Sequential()\n",
        "# Adding Flatten layer\n",
        "nn_model_2.add(Flatten(input_shape = (32, 32)))\n",
        "# Dense Layers\n",
        "nn_model_2.add(Dense(256, activation = 'relu'))\n",
        "nn_model_2.add(Dense(128, activation = 'relu'))\n",
        "# add dropout\n",
        "nn_model_2.add(Dropout(0.2))\n",
        "# more dense layers\n",
        "nn_model_2.add(Dense(64, activation = 'relu'))\n",
        "nn_model_2.add(Dense(64, activation = 'relu'))\n",
        "nn_model_2.add(Dense(32, activation = 'relu'))\n",
        "# batch normalization\n",
        "nn_model_2.add(BatchNormalization())\n",
        "# output layer\n",
        "nn_model_2.add(Dense(10, activation = 'softmax'))"
      ]
    },
    {
      "cell_type": "code",
      "source": [
        "opt = Adam(learning_rate = 0.0005)"
      ],
      "metadata": {
        "id": "L102uqRHRGRb"
      },
      "execution_count": 101,
      "outputs": []
    },
    {
      "cell_type": "code",
      "source": [
        "nn_model_2.compile(optimizer = opt, loss = 'categorical_crossentropy',  metrics = ['accuracy'])"
      ],
      "metadata": {
        "id": "V-anKXkPRStu"
      },
      "execution_count": 102,
      "outputs": []
    },
    {
      "cell_type": "code",
      "source": [
        "nn_model_2.summary()"
      ],
      "metadata": {
        "colab": {
          "base_uri": "https://localhost:8080/"
        },
        "id": "yWLTKITURnI8",
        "outputId": "8f4e9c26-ff8f-4c41-8018-0623008ed47d"
      },
      "execution_count": 103,
      "outputs": [
        {
          "output_type": "stream",
          "name": "stdout",
          "text": [
            "Model: \"sequential\"\n",
            "_________________________________________________________________\n",
            " Layer (type)                Output Shape              Param #   \n",
            "=================================================================\n",
            " flatten (Flatten)           (None, 1024)              0         \n",
            "                                                                 \n",
            " dense (Dense)               (None, 256)               262400    \n",
            "                                                                 \n",
            " dense_1 (Dense)             (None, 128)               32896     \n",
            "                                                                 \n",
            " dropout (Dropout)           (None, 128)               0         \n",
            "                                                                 \n",
            " dense_2 (Dense)             (None, 64)                8256      \n",
            "                                                                 \n",
            " dense_3 (Dense)             (None, 64)                4160      \n",
            "                                                                 \n",
            " dense_4 (Dense)             (None, 32)                2080      \n",
            "                                                                 \n",
            " batch_normalization (Batch  (None, 32)                128       \n",
            " Normalization)                                                  \n",
            "                                                                 \n",
            " dense_5 (Dense)             (None, 10)                330       \n",
            "                                                                 \n",
            "=================================================================\n",
            "Total params: 310250 (1.18 MB)\n",
            "Trainable params: 310186 (1.18 MB)\n",
            "Non-trainable params: 64 (256.00 Byte)\n",
            "_________________________________________________________________\n"
          ]
        }
      ]
    },
    {
      "cell_type": "code",
      "source": [
        "hist_nn_model_2 = nn_model_2.fit(X_train_norm, y_train_encoded,\n",
        "          validation_split=0.2,\n",
        "          epochs=30,\n",
        "          batch_size=128,verbose=1)"
      ],
      "metadata": {
        "colab": {
          "base_uri": "https://localhost:8080/"
        },
        "id": "Tc4eZnJ0RvBg",
        "outputId": "dda7b96d-93d3-40c7-b536-80dfb79e1f3c"
      },
      "execution_count": 104,
      "outputs": [
        {
          "output_type": "stream",
          "name": "stdout",
          "text": [
            "Epoch 1/30\n",
            "263/263 [==============================] - 5s 8ms/step - loss: 2.3300 - accuracy: 0.1007 - val_loss: 2.3138 - val_accuracy: 0.0967\n",
            "Epoch 2/30\n",
            "263/263 [==============================] - 1s 5ms/step - loss: 2.3042 - accuracy: 0.1028 - val_loss: 2.3015 - val_accuracy: 0.1100\n",
            "Epoch 3/30\n",
            "263/263 [==============================] - 1s 5ms/step - loss: 2.1578 - accuracy: 0.1819 - val_loss: 2.0076 - val_accuracy: 0.2627\n",
            "Epoch 4/30\n",
            "263/263 [==============================] - 1s 5ms/step - loss: 1.6188 - accuracy: 0.4376 - val_loss: 1.4725 - val_accuracy: 0.5079\n",
            "Epoch 5/30\n",
            "263/263 [==============================] - 1s 5ms/step - loss: 1.3587 - accuracy: 0.5480 - val_loss: 1.2387 - val_accuracy: 0.6042\n",
            "Epoch 6/30\n",
            "263/263 [==============================] - 2s 6ms/step - loss: 1.2342 - accuracy: 0.5973 - val_loss: 1.1264 - val_accuracy: 0.6396\n",
            "Epoch 7/30\n",
            "263/263 [==============================] - 2s 7ms/step - loss: 1.1481 - accuracy: 0.6307 - val_loss: 1.0631 - val_accuracy: 0.6620\n",
            "Epoch 8/30\n",
            "263/263 [==============================] - 2s 6ms/step - loss: 1.0711 - accuracy: 0.6574 - val_loss: 1.0717 - val_accuracy: 0.6619\n",
            "Epoch 9/30\n",
            "263/263 [==============================] - 1s 5ms/step - loss: 1.0338 - accuracy: 0.6700 - val_loss: 0.9832 - val_accuracy: 0.6911\n",
            "Epoch 10/30\n",
            "263/263 [==============================] - 1s 5ms/step - loss: 1.0011 - accuracy: 0.6807 - val_loss: 0.9418 - val_accuracy: 0.7025\n",
            "Epoch 11/30\n",
            "263/263 [==============================] - 1s 5ms/step - loss: 0.9708 - accuracy: 0.6910 - val_loss: 0.9227 - val_accuracy: 0.7080\n",
            "Epoch 12/30\n",
            "263/263 [==============================] - 1s 5ms/step - loss: 0.9385 - accuracy: 0.7043 - val_loss: 0.8955 - val_accuracy: 0.7169\n",
            "Epoch 13/30\n",
            "263/263 [==============================] - 1s 6ms/step - loss: 0.9067 - accuracy: 0.7119 - val_loss: 0.9770 - val_accuracy: 0.6813\n",
            "Epoch 14/30\n",
            "263/263 [==============================] - 2s 6ms/step - loss: 0.8992 - accuracy: 0.7166 - val_loss: 0.8591 - val_accuracy: 0.7286\n",
            "Epoch 15/30\n",
            "263/263 [==============================] - 2s 7ms/step - loss: 0.8733 - accuracy: 0.7222 - val_loss: 0.9316 - val_accuracy: 0.6987\n",
            "Epoch 16/30\n",
            "263/263 [==============================] - 2s 6ms/step - loss: 0.8624 - accuracy: 0.7270 - val_loss: 0.8773 - val_accuracy: 0.7206\n",
            "Epoch 17/30\n",
            "263/263 [==============================] - 2s 6ms/step - loss: 0.8515 - accuracy: 0.7304 - val_loss: 0.8141 - val_accuracy: 0.7437\n",
            "Epoch 18/30\n",
            "263/263 [==============================] - 2s 6ms/step - loss: 0.8379 - accuracy: 0.7340 - val_loss: 0.8519 - val_accuracy: 0.7304\n",
            "Epoch 19/30\n",
            "263/263 [==============================] - 2s 6ms/step - loss: 0.8167 - accuracy: 0.7402 - val_loss: 0.8003 - val_accuracy: 0.7520\n",
            "Epoch 20/30\n",
            "263/263 [==============================] - 1s 5ms/step - loss: 0.7980 - accuracy: 0.7473 - val_loss: 0.7924 - val_accuracy: 0.7530\n",
            "Epoch 21/30\n",
            "263/263 [==============================] - 1s 5ms/step - loss: 0.7900 - accuracy: 0.7486 - val_loss: 0.7755 - val_accuracy: 0.7530\n",
            "Epoch 22/30\n",
            "263/263 [==============================] - 2s 6ms/step - loss: 0.7924 - accuracy: 0.7487 - val_loss: 0.8089 - val_accuracy: 0.7479\n",
            "Epoch 23/30\n",
            "263/263 [==============================] - 2s 8ms/step - loss: 0.7713 - accuracy: 0.7531 - val_loss: 0.7762 - val_accuracy: 0.7576\n",
            "Epoch 24/30\n",
            "263/263 [==============================] - 1s 5ms/step - loss: 0.7753 - accuracy: 0.7538 - val_loss: 0.7793 - val_accuracy: 0.7560\n",
            "Epoch 25/30\n",
            "263/263 [==============================] - 1s 5ms/step - loss: 0.7583 - accuracy: 0.7611 - val_loss: 0.7498 - val_accuracy: 0.7636\n",
            "Epoch 26/30\n",
            "263/263 [==============================] - 1s 5ms/step - loss: 0.7502 - accuracy: 0.7616 - val_loss: 0.8059 - val_accuracy: 0.7399\n",
            "Epoch 27/30\n",
            "263/263 [==============================] - 2s 6ms/step - loss: 0.7413 - accuracy: 0.7657 - val_loss: 0.7815 - val_accuracy: 0.7569\n",
            "Epoch 28/30\n",
            "263/263 [==============================] - 1s 5ms/step - loss: 0.7332 - accuracy: 0.7660 - val_loss: 0.7231 - val_accuracy: 0.7739\n",
            "Epoch 29/30\n",
            "263/263 [==============================] - 1s 5ms/step - loss: 0.7341 - accuracy: 0.7660 - val_loss: 0.7313 - val_accuracy: 0.7658\n",
            "Epoch 30/30\n",
            "263/263 [==============================] - 1s 5ms/step - loss: 0.7243 - accuracy: 0.7676 - val_loss: 0.7250 - val_accuracy: 0.7714\n"
          ]
        }
      ]
    },
    {
      "cell_type": "markdown",
      "metadata": {
        "id": "ZJYsvjmw0XIX"
      },
      "source": [
        "### **Plot the Training and Validation Accuracies and write down your Observations.**"
      ]
    },
    {
      "cell_type": "code",
      "execution_count": 105,
      "metadata": {
        "id": "01ig6BrF1KVy",
        "colab": {
          "base_uri": "https://localhost:8080/",
          "height": 206
        },
        "outputId": "cc08f919-bfbb-4555-d445-020870df6460"
      },
      "outputs": [
        {
          "output_type": "execute_result",
          "data": {
            "text/plain": [
              "       loss  accuracy  val_loss  val_accuracy  epoch\n",
              "0  2.330043  0.100744  2.313770      0.096667      0\n",
              "1  2.304195  0.102798  2.301535      0.110000      1\n",
              "2  2.157802  0.181935  2.007631      0.262738      2\n",
              "3  1.618777  0.437560  1.472471      0.507857      3\n",
              "4  1.358668  0.547976  1.238676      0.604167      4"
            ],
            "text/html": [
              "\n",
              "  <div id=\"df-14d5c792-1143-492e-b7ae-f9c0c4743523\" class=\"colab-df-container\">\n",
              "    <div>\n",
              "<style scoped>\n",
              "    .dataframe tbody tr th:only-of-type {\n",
              "        vertical-align: middle;\n",
              "    }\n",
              "\n",
              "    .dataframe tbody tr th {\n",
              "        vertical-align: top;\n",
              "    }\n",
              "\n",
              "    .dataframe thead th {\n",
              "        text-align: right;\n",
              "    }\n",
              "</style>\n",
              "<table border=\"1\" class=\"dataframe\">\n",
              "  <thead>\n",
              "    <tr style=\"text-align: right;\">\n",
              "      <th></th>\n",
              "      <th>loss</th>\n",
              "      <th>accuracy</th>\n",
              "      <th>val_loss</th>\n",
              "      <th>val_accuracy</th>\n",
              "      <th>epoch</th>\n",
              "    </tr>\n",
              "  </thead>\n",
              "  <tbody>\n",
              "    <tr>\n",
              "      <th>0</th>\n",
              "      <td>2.330043</td>\n",
              "      <td>0.100744</td>\n",
              "      <td>2.313770</td>\n",
              "      <td>0.096667</td>\n",
              "      <td>0</td>\n",
              "    </tr>\n",
              "    <tr>\n",
              "      <th>1</th>\n",
              "      <td>2.304195</td>\n",
              "      <td>0.102798</td>\n",
              "      <td>2.301535</td>\n",
              "      <td>0.110000</td>\n",
              "      <td>1</td>\n",
              "    </tr>\n",
              "    <tr>\n",
              "      <th>2</th>\n",
              "      <td>2.157802</td>\n",
              "      <td>0.181935</td>\n",
              "      <td>2.007631</td>\n",
              "      <td>0.262738</td>\n",
              "      <td>2</td>\n",
              "    </tr>\n",
              "    <tr>\n",
              "      <th>3</th>\n",
              "      <td>1.618777</td>\n",
              "      <td>0.437560</td>\n",
              "      <td>1.472471</td>\n",
              "      <td>0.507857</td>\n",
              "      <td>3</td>\n",
              "    </tr>\n",
              "    <tr>\n",
              "      <th>4</th>\n",
              "      <td>1.358668</td>\n",
              "      <td>0.547976</td>\n",
              "      <td>1.238676</td>\n",
              "      <td>0.604167</td>\n",
              "      <td>4</td>\n",
              "    </tr>\n",
              "  </tbody>\n",
              "</table>\n",
              "</div>\n",
              "    <div class=\"colab-df-buttons\">\n",
              "\n",
              "  <div class=\"colab-df-container\">\n",
              "    <button class=\"colab-df-convert\" onclick=\"convertToInteractive('df-14d5c792-1143-492e-b7ae-f9c0c4743523')\"\n",
              "            title=\"Convert this dataframe to an interactive table.\"\n",
              "            style=\"display:none;\">\n",
              "\n",
              "  <svg xmlns=\"http://www.w3.org/2000/svg\" height=\"24px\" viewBox=\"0 -960 960 960\">\n",
              "    <path d=\"M120-120v-720h720v720H120Zm60-500h600v-160H180v160Zm220 220h160v-160H400v160Zm0 220h160v-160H400v160ZM180-400h160v-160H180v160Zm440 0h160v-160H620v160ZM180-180h160v-160H180v160Zm440 0h160v-160H620v160Z\"/>\n",
              "  </svg>\n",
              "    </button>\n",
              "\n",
              "  <style>\n",
              "    .colab-df-container {\n",
              "      display:flex;\n",
              "      gap: 12px;\n",
              "    }\n",
              "\n",
              "    .colab-df-convert {\n",
              "      background-color: #E8F0FE;\n",
              "      border: none;\n",
              "      border-radius: 50%;\n",
              "      cursor: pointer;\n",
              "      display: none;\n",
              "      fill: #1967D2;\n",
              "      height: 32px;\n",
              "      padding: 0 0 0 0;\n",
              "      width: 32px;\n",
              "    }\n",
              "\n",
              "    .colab-df-convert:hover {\n",
              "      background-color: #E2EBFA;\n",
              "      box-shadow: 0px 1px 2px rgba(60, 64, 67, 0.3), 0px 1px 3px 1px rgba(60, 64, 67, 0.15);\n",
              "      fill: #174EA6;\n",
              "    }\n",
              "\n",
              "    .colab-df-buttons div {\n",
              "      margin-bottom: 4px;\n",
              "    }\n",
              "\n",
              "    [theme=dark] .colab-df-convert {\n",
              "      background-color: #3B4455;\n",
              "      fill: #D2E3FC;\n",
              "    }\n",
              "\n",
              "    [theme=dark] .colab-df-convert:hover {\n",
              "      background-color: #434B5C;\n",
              "      box-shadow: 0px 1px 3px 1px rgba(0, 0, 0, 0.15);\n",
              "      filter: drop-shadow(0px 1px 2px rgba(0, 0, 0, 0.3));\n",
              "      fill: #FFFFFF;\n",
              "    }\n",
              "  </style>\n",
              "\n",
              "    <script>\n",
              "      const buttonEl =\n",
              "        document.querySelector('#df-14d5c792-1143-492e-b7ae-f9c0c4743523 button.colab-df-convert');\n",
              "      buttonEl.style.display =\n",
              "        google.colab.kernel.accessAllowed ? 'block' : 'none';\n",
              "\n",
              "      async function convertToInteractive(key) {\n",
              "        const element = document.querySelector('#df-14d5c792-1143-492e-b7ae-f9c0c4743523');\n",
              "        const dataTable =\n",
              "          await google.colab.kernel.invokeFunction('convertToInteractive',\n",
              "                                                    [key], {});\n",
              "        if (!dataTable) return;\n",
              "\n",
              "        const docLinkHtml = 'Like what you see? Visit the ' +\n",
              "          '<a target=\"_blank\" href=https://colab.research.google.com/notebooks/data_table.ipynb>data table notebook</a>'\n",
              "          + ' to learn more about interactive tables.';\n",
              "        element.innerHTML = '';\n",
              "        dataTable['output_type'] = 'display_data';\n",
              "        await google.colab.output.renderOutput(dataTable, element);\n",
              "        const docLink = document.createElement('div');\n",
              "        docLink.innerHTML = docLinkHtml;\n",
              "        element.appendChild(docLink);\n",
              "      }\n",
              "    </script>\n",
              "  </div>\n",
              "\n",
              "\n",
              "<div id=\"df-6cdb9724-785c-44a7-945c-0d008f3bc230\">\n",
              "  <button class=\"colab-df-quickchart\" onclick=\"quickchart('df-6cdb9724-785c-44a7-945c-0d008f3bc230')\"\n",
              "            title=\"Suggest charts\"\n",
              "            style=\"display:none;\">\n",
              "\n",
              "<svg xmlns=\"http://www.w3.org/2000/svg\" height=\"24px\"viewBox=\"0 0 24 24\"\n",
              "     width=\"24px\">\n",
              "    <g>\n",
              "        <path d=\"M19 3H5c-1.1 0-2 .9-2 2v14c0 1.1.9 2 2 2h14c1.1 0 2-.9 2-2V5c0-1.1-.9-2-2-2zM9 17H7v-7h2v7zm4 0h-2V7h2v10zm4 0h-2v-4h2v4z\"/>\n",
              "    </g>\n",
              "</svg>\n",
              "  </button>\n",
              "\n",
              "<style>\n",
              "  .colab-df-quickchart {\n",
              "      --bg-color: #E8F0FE;\n",
              "      --fill-color: #1967D2;\n",
              "      --hover-bg-color: #E2EBFA;\n",
              "      --hover-fill-color: #174EA6;\n",
              "      --disabled-fill-color: #AAA;\n",
              "      --disabled-bg-color: #DDD;\n",
              "  }\n",
              "\n",
              "  [theme=dark] .colab-df-quickchart {\n",
              "      --bg-color: #3B4455;\n",
              "      --fill-color: #D2E3FC;\n",
              "      --hover-bg-color: #434B5C;\n",
              "      --hover-fill-color: #FFFFFF;\n",
              "      --disabled-bg-color: #3B4455;\n",
              "      --disabled-fill-color: #666;\n",
              "  }\n",
              "\n",
              "  .colab-df-quickchart {\n",
              "    background-color: var(--bg-color);\n",
              "    border: none;\n",
              "    border-radius: 50%;\n",
              "    cursor: pointer;\n",
              "    display: none;\n",
              "    fill: var(--fill-color);\n",
              "    height: 32px;\n",
              "    padding: 0;\n",
              "    width: 32px;\n",
              "  }\n",
              "\n",
              "  .colab-df-quickchart:hover {\n",
              "    background-color: var(--hover-bg-color);\n",
              "    box-shadow: 0 1px 2px rgba(60, 64, 67, 0.3), 0 1px 3px 1px rgba(60, 64, 67, 0.15);\n",
              "    fill: var(--button-hover-fill-color);\n",
              "  }\n",
              "\n",
              "  .colab-df-quickchart-complete:disabled,\n",
              "  .colab-df-quickchart-complete:disabled:hover {\n",
              "    background-color: var(--disabled-bg-color);\n",
              "    fill: var(--disabled-fill-color);\n",
              "    box-shadow: none;\n",
              "  }\n",
              "\n",
              "  .colab-df-spinner {\n",
              "    border: 2px solid var(--fill-color);\n",
              "    border-color: transparent;\n",
              "    border-bottom-color: var(--fill-color);\n",
              "    animation:\n",
              "      spin 1s steps(1) infinite;\n",
              "  }\n",
              "\n",
              "  @keyframes spin {\n",
              "    0% {\n",
              "      border-color: transparent;\n",
              "      border-bottom-color: var(--fill-color);\n",
              "      border-left-color: var(--fill-color);\n",
              "    }\n",
              "    20% {\n",
              "      border-color: transparent;\n",
              "      border-left-color: var(--fill-color);\n",
              "      border-top-color: var(--fill-color);\n",
              "    }\n",
              "    30% {\n",
              "      border-color: transparent;\n",
              "      border-left-color: var(--fill-color);\n",
              "      border-top-color: var(--fill-color);\n",
              "      border-right-color: var(--fill-color);\n",
              "    }\n",
              "    40% {\n",
              "      border-color: transparent;\n",
              "      border-right-color: var(--fill-color);\n",
              "      border-top-color: var(--fill-color);\n",
              "    }\n",
              "    60% {\n",
              "      border-color: transparent;\n",
              "      border-right-color: var(--fill-color);\n",
              "    }\n",
              "    80% {\n",
              "      border-color: transparent;\n",
              "      border-right-color: var(--fill-color);\n",
              "      border-bottom-color: var(--fill-color);\n",
              "    }\n",
              "    90% {\n",
              "      border-color: transparent;\n",
              "      border-bottom-color: var(--fill-color);\n",
              "    }\n",
              "  }\n",
              "</style>\n",
              "\n",
              "  <script>\n",
              "    async function quickchart(key) {\n",
              "      const quickchartButtonEl =\n",
              "        document.querySelector('#' + key + ' button');\n",
              "      quickchartButtonEl.disabled = true;  // To prevent multiple clicks.\n",
              "      quickchartButtonEl.classList.add('colab-df-spinner');\n",
              "      try {\n",
              "        const charts = await google.colab.kernel.invokeFunction(\n",
              "            'suggestCharts', [key], {});\n",
              "      } catch (error) {\n",
              "        console.error('Error during call to suggestCharts:', error);\n",
              "      }\n",
              "      quickchartButtonEl.classList.remove('colab-df-spinner');\n",
              "      quickchartButtonEl.classList.add('colab-df-quickchart-complete');\n",
              "    }\n",
              "    (() => {\n",
              "      let quickchartButtonEl =\n",
              "        document.querySelector('#df-6cdb9724-785c-44a7-945c-0d008f3bc230 button');\n",
              "      quickchartButtonEl.style.display =\n",
              "        google.colab.kernel.accessAllowed ? 'block' : 'none';\n",
              "    })();\n",
              "  </script>\n",
              "</div>\n",
              "    </div>\n",
              "  </div>\n"
            ]
          },
          "metadata": {},
          "execution_count": 105
        }
      ],
      "source": [
        "# Capturing learning history per epoch\n",
        "hist_2  = pd.DataFrame(hist_nn_model_2.history)\n",
        "hist_2['epoch'] = hist_nn_model_2.epoch\n",
        "hist_2.head()"
      ]
    },
    {
      "cell_type": "code",
      "source": [
        "# Plotting accuracy at different epochs\n",
        "plt.plot(hist_2['accuracy'])\n",
        "plt.plot(hist_2['val_accuracy'])\n",
        "plt.title('Model Accuracy')\n",
        "plt.ylabel('Accuracy')\n",
        "plt.xlabel('Epoch')\n",
        "plt.legend(['Train', 'Validation'], loc='upper left')\n",
        "plt.show()"
      ],
      "metadata": {
        "colab": {
          "base_uri": "https://localhost:8080/",
          "height": 472
        },
        "id": "EE-ewNl8SbTo",
        "outputId": "15afbff5-8177-4136-f643-eae1979cd43a"
      },
      "execution_count": 106,
      "outputs": [
        {
          "output_type": "display_data",
          "data": {
            "text/plain": [
              "<Figure size 640x480 with 1 Axes>"
            ],
            "image/png": "[encoded data removed]"
          },
          "metadata": {}
        }
      ]
    },
    {
      "cell_type": "markdown",
      "metadata": {
        "id": "VPW1LlD61RDn"
      },
      "source": [
        "**Observations:**\n",
        "1. Similarly to model 1, model 2 achieved similar accuracy on both training and validation sets\n",
        "2. performance has improved a little bit, with accuracy going up to around 77%\n",
        "3. model performace is not satisfactory"
      ]
    },
    {
      "cell_type": "markdown",
      "metadata": {
        "id": "8kuXx9Bvu00f"
      },
      "source": [
        "## **Predictions on the test data**\n",
        "\n",
        "- Make predictions on the test set using the second model.\n",
        "- Print the obtained results using the classification report and the confusion matrix.\n",
        "- Final observations on the obtained results."
      ]
    },
    {
      "cell_type": "code",
      "execution_count": 108,
      "metadata": {
        "id": "xbWMEtTj5Ad0",
        "colab": {
          "base_uri": "https://localhost:8080/"
        },
        "outputId": "3db59de6-2d37-4761-8fb9-eb099ed1389a"
      },
      "outputs": [
        {
          "output_type": "stream",
          "name": "stdout",
          "text": [
            "563/563 [==============================] - 2s 3ms/step\n"
          ]
        },
        {
          "output_type": "execute_result",
          "data": {
            "text/plain": [
              "array([[3.0460605e-01, 5.8522869e-02, 3.8579933e-02, ..., 2.1879179e-02,\n",
              "        2.3449135e-01, 1.0369486e-01],\n",
              "       [3.5049903e-04, 1.2768924e-03, 5.4319781e-01, ..., 4.3431443e-01,\n",
              "        6.6564750e-04, 9.2608773e-04],\n",
              "       [2.1961748e-04, 5.0032698e-04, 9.9090892e-01, ..., 9.4840187e-04,\n",
              "        5.7518709e-04, 4.5433055e-04],\n",
              "       ...,\n",
              "       [4.1146253e-05, 1.3349913e-02, 2.3719294e-03, ..., 9.7772938e-01,\n",
              "        3.2191531e-04, 1.2329023e-04],\n",
              "       [7.0760897e-03, 5.5670068e-03, 1.5969662e-02, ..., 1.0103194e-02,\n",
              "        7.7600107e-02, 6.7690700e-01],\n",
              "       [3.3004527e-04, 1.3083946e-04, 9.9263376e-01, ..., 3.2548881e-03,\n",
              "        2.7540597e-04, 4.5480634e-04]], dtype=float32)"
            ]
          },
          "metadata": {},
          "execution_count": 108
        }
      ],
      "source": [
        "y_pred_nn2 = nn_model_2.predict(X_test_norm)\n",
        "y_pred_nn2"
      ]
    },
    {
      "cell_type": "markdown",
      "metadata": {
        "id": "i3li8Ib08yts"
      },
      "source": [
        "**Note:** Earlier, we noticed that each entry of the target variable is a one-hot encoded vector but to print the classification report and confusion matrix, we must convert each entry of y_test to a single label."
      ]
    },
    {
      "cell_type": "code",
      "execution_count": 109,
      "metadata": {
        "id": "NByu7uAQ8x9P",
        "colab": {
          "base_uri": "https://localhost:8080/"
        },
        "outputId": "f9ac8faa-00a2-4564-8d96-67ca2a917717"
      },
      "outputs": [
        {
          "output_type": "execute_result",
          "data": {
            "text/plain": [
              "array([0, 2, 2, ..., 7, 9, 2])"
            ]
          },
          "metadata": {},
          "execution_count": 109
        }
      ],
      "source": [
        "y_pred_nn2 = np.argmax(y_pred_nn2, axis = -1)\n",
        "y_pred_nn2"
      ]
    },
    {
      "cell_type": "markdown",
      "metadata": {
        "id": "1_SIoopr0XIg"
      },
      "source": [
        "### **Print the classification report and the confusion matrix for the test predictions. Write your observations on the final results.**"
      ]
    },
    {
      "cell_type": "code",
      "execution_count": 110,
      "metadata": {
        "id": "xRddeJ-3EHT1"
      },
      "outputs": [],
      "source": [
        "def metrics_score(actual, predicted):\n",
        "\n",
        "    from sklearn.metrics import classification_report\n",
        "\n",
        "    from sklearn.metrics import confusion_matrix\n",
        "\n",
        "    print(classification_report(actual, predicted))\n",
        "\n",
        "    cm = confusion_matrix(actual, predicted)\n",
        "\n",
        "    plt.figure(figsize = (8, 5))\n",
        "\n",
        "    sns.heatmap(cm, annot = True,  fmt = '.0f', xticklabels = class_names_list, yticklabels = class_names_list)\n",
        "\n",
        "    plt.ylabel('Actual')\n",
        "\n",
        "    plt.xlabel('Predicted')\n",
        "\n",
        "    plt.show()"
      ]
    },
    {
      "cell_type": "code",
      "source": [
        "metrics_score(y_test,y_pred_nn2 )"
      ],
      "metadata": {
        "colab": {
          "base_uri": "https://localhost:8080/",
          "height": 760
        },
        "id": "o1iDPAcpWedq",
        "outputId": "332f1b9b-98b9-4746-b227-0a5d4f3a8cbc"
      },
      "execution_count": 111,
      "outputs": [
        {
          "output_type": "stream",
          "name": "stdout",
          "text": [
            "              precision    recall  f1-score   support\n",
            "\n",
            "           0       0.88      0.74      0.80      1814\n",
            "           1       0.81      0.80      0.80      1828\n",
            "           2       0.83      0.76      0.80      1803\n",
            "           3       0.67      0.76      0.71      1719\n",
            "           4       0.80      0.83      0.81      1812\n",
            "           5       0.75      0.70      0.73      1768\n",
            "           6       0.67      0.81      0.73      1832\n",
            "           7       0.82      0.82      0.82      1808\n",
            "           8       0.70      0.73      0.72      1812\n",
            "           9       0.81      0.72      0.76      1804\n",
            "\n",
            "    accuracy                           0.77     18000\n",
            "   macro avg       0.77      0.77      0.77     18000\n",
            "weighted avg       0.77      0.77      0.77     18000\n",
            "\n"
          ]
        },
        {
          "output_type": "display_data",
          "data": {
            "text/plain": [
              "<Figure size 800x500 with 2 Axes>"
            ],
            "image/png": "[encoded data removed]"
          },
          "metadata": {}
        }
      ]
    },
    {
      "cell_type": "markdown",
      "metadata": {
        "id": "DjErl4GA2u9s"
      },
      "source": [
        "**Final Observations:**\n",
        "1. both model's recall and precision scores are low\n",
        "2. this indicates the model is lacking the capacity to capture the number patterns\n",
        "3. the model is misclassifying lots of cases\n",
        "4. the most common misclassiifcations are, with over 100 misclassifications are:\n",
        "* 0 classified as 6\n",
        "* 2 classified as 7\n",
        "* 3 classified as 5\n",
        "* 5 classified as 3  \n",
        "* 5 classified as 6\n",
        "* 5 classified as 8\n",
        "* 8 classified as 6\n",
        "* 9 classified as 8\n",
        "\n",
        "It would be beneficial to enhance the model and check if that improves performnce.\n",
        "\n",
        "\n",
        "\n",
        "\n",
        "\n",
        "\n",
        "\n",
        "\n",
        "\n",
        "\n",
        "\n",
        "\n",
        "\n",
        "\n",
        "\n"
      ]
    },
    {
      "cell_type": "markdown",
      "metadata": {
        "id": "xkR4JioMsuIV"
      },
      "source": [
        "## **Using Convolutional Neural Networks**"
      ]
    },
    {
      "cell_type": "markdown",
      "metadata": {
        "id": "YN2YgkGL_6xQ"
      },
      "source": [
        "### **Load the dataset again and split the data into the train and the test dataset.**"
      ]
    },
    {
      "cell_type": "code",
      "execution_count": 112,
      "metadata": {
        "id": "mqM204HbAjP2",
        "scrolled": true
      },
      "outputs": [],
      "source": [
        "# Load the .h5 file\n",
        "file_path = '/content/SVHN_single_grey1.h5'\n",
        "\n",
        "def print_attrs(name, obj):\n",
        "    if isinstance(obj, h5py.Dataset):\n",
        "      print(name)\n",
        "\n",
        "with h5py.File(file_path, 'r') as hf:\n",
        "    # hf.visititems(print_attrs)\n",
        "\n",
        "    X_train = hf['X_train']\n",
        "    X_train = X_train[:]\n",
        "    X_test = hf['X_test']\n",
        "    X_test = X_test[:]\n",
        "    X_val = hf['X_val']\n",
        "    X_val = X_val[:]\n",
        "\n",
        "    y_train = hf['y_train']\n",
        "    y_train = y_train[:]\n",
        "    y_test = hf['y_test']\n",
        "    y_test = y_test[:]\n",
        "    y_val = hf['y_val']\n",
        "    y_val = y_val[:]\n",
        "\n"
      ]
    },
    {
      "cell_type": "markdown",
      "metadata": {
        "id": "6fPqF_xGAjQB"
      },
      "source": [
        "Check the number of images in the training and the testing dataset."
      ]
    },
    {
      "cell_type": "code",
      "execution_count": 114,
      "metadata": {
        "id": "gTLJZWjPAjQB",
        "colab": {
          "base_uri": "https://localhost:8080/"
        },
        "outputId": "02d2f5f1-cebc-4e2a-8627-cc340b672aa9"
      },
      "outputs": [
        {
          "output_type": "execute_result",
          "data": {
            "text/plain": [
              "(42000, 18000)"
            ]
          },
          "metadata": {},
          "execution_count": 114
        }
      ],
      "source": [
        "X_train.shape[0], X_test.shape[0]"
      ]
    },
    {
      "cell_type": "markdown",
      "metadata": {
        "id": "9qyMiP_rAjQB"
      },
      "source": [
        "**Observation:**\n",
        "1. There are 42000 images in training set\n",
        "2. There are 18000 images in testing set\n"
      ]
    },
    {
      "cell_type": "markdown",
      "metadata": {
        "id": "OJndFfEVAjQG"
      },
      "source": [
        "## **Data preparation**\n",
        "\n",
        "- Print the shape and the array of pixels for the first image in the training dataset.\n",
        "- Reshape the train and the test dataset because we always have to give a 4D array as input to CNNs.\n",
        "- Normalize the train and the test dataset by dividing by 255.\n",
        "- Print the new shapes of the train and the test dataset.\n",
        "- One-hot encode the target variable."
      ]
    },
    {
      "cell_type": "code",
      "execution_count": 116,
      "metadata": {
        "id": "W4uXqKz1AjQG",
        "colab": {
          "base_uri": "https://localhost:8080/"
        },
        "outputId": "139f4d3e-798b-496c-c59b-0bfce33497e9"
      },
      "outputs": [
        {
          "output_type": "execute_result",
          "data": {
            "text/plain": [
              "((32, 32),\n",
              " array([[ 33.0704,  30.2601,  26.852 , ...,  71.4471,  58.2204,  42.9939],\n",
              "        [ 25.2283,  25.5533,  29.9765, ..., 113.0209, 103.3639,  84.2949],\n",
              "        [ 26.2775,  22.6137,  40.4763, ..., 113.3028, 121.775 , 115.4228],\n",
              "        ...,\n",
              "        [ 28.5502,  36.212 ,  45.0801, ...,  24.1359,  25.0927,  26.0603],\n",
              "        [ 38.4352,  26.4733,  23.2717, ...,  28.1094,  29.4683,  30.0661],\n",
              "        [ 50.2984,  26.0773,  24.0389, ...,  49.6682,  50.853 ,  53.0377]],\n",
              "       dtype=float32))"
            ]
          },
          "metadata": {},
          "execution_count": 116
        }
      ],
      "source": [
        "# Print the shape and the array of pixels for the first image in the training dataset\n",
        "X_train[0].shape, X_train[0]"
      ]
    },
    {
      "cell_type": "markdown",
      "metadata": {
        "id": "at30iiX1__7F"
      },
      "source": [
        "Reshape the dataset to be able to pass them to CNNs. Remember that we always have to give a 4D array as input to CNNs"
      ]
    },
    {
      "cell_type": "code",
      "source": [
        "# Reshape dataset to have a single channel\n",
        "X_train = X_train.reshape((X_train.shape[0], 32, 32, 1))\n",
        "X_test = X_test.reshape((X_test.shape[0], 32, 32, 1))\n",
        "X_train.shape, X_test.shape"
      ],
      "metadata": {
        "colab": {
          "base_uri": "https://localhost:8080/"
        },
        "id": "8rTQLVp4Ymf3",
        "outputId": "7f5c5e4a-67f2-46d3-ad67-b584779569f9"
      },
      "execution_count": 120,
      "outputs": [
        {
          "output_type": "execute_result",
          "data": {
            "text/plain": [
              "((42000, 32, 32, 1), (18000, 32, 32, 1))"
            ]
          },
          "metadata": {},
          "execution_count": 120
        }
      ]
    },
    {
      "cell_type": "markdown",
      "metadata": {
        "id": "ODYnoLfaAEGx"
      },
      "source": [
        "Normalize inputs from 0-255 to 0-1"
      ]
    },
    {
      "cell_type": "code",
      "execution_count": 121,
      "metadata": {
        "id": "eOGLAn40AjQG"
      },
      "outputs": [],
      "source": [
        "X_train_norm = X_train/255.0\n",
        "X_test_norm = X_test/255.0\n"
      ]
    },
    {
      "cell_type": "markdown",
      "metadata": {
        "id": "cS9T4HqjAoyM"
      },
      "source": [
        "Print New shape of Training and Test"
      ]
    },
    {
      "cell_type": "code",
      "execution_count": 123,
      "metadata": {
        "id": "5qf8S5NQAjQG",
        "colab": {
          "base_uri": "https://localhost:8080/"
        },
        "outputId": "ec7591e4-b3e0-4ad2-90c9-0d9c4074a849"
      },
      "outputs": [
        {
          "output_type": "execute_result",
          "data": {
            "text/plain": [
              "((42000, 32, 32, 1), (42000, 32, 32, 1))"
            ]
          },
          "metadata": {},
          "execution_count": 123
        }
      ],
      "source": [
        "X_train_norm.shape, X_train_norm.shape"
      ]
    },
    {
      "cell_type": "markdown",
      "metadata": {
        "id": "10QaOV-xR7Jn"
      },
      "source": [
        "### **One-hot encode the labels in the target variable y_train and y_test.**"
      ]
    },
    {
      "cell_type": "code",
      "execution_count": 126,
      "metadata": {
        "id": "3KHWFWKMAjQH"
      },
      "outputs": [],
      "source": [
        "y_train_encoded = to_categorical(y_train)\n",
        "y_test_encoded = to_categorical(y_test)\n"
      ]
    },
    {
      "cell_type": "markdown",
      "metadata": {
        "id": "H-8jYVQTAjQH"
      },
      "source": [
        "**Observation:**\n",
        "1. there are 42000 images of SVHN in the training data set\n",
        "2. there are 18000 images of SVHN in the testing data set\n",
        "3. image size is 32 by 32 pixels\n",
        "4. images are labeled into 10 categories: numbers from 0 - 9\n",
        "5. each of the X_train and X_test array of pixels was normalized by dividing by 255, so all pixel values are between 0 and 1\n",
        "6. training and testing labels have been One Hot encoded, i.e. they were changed from single digit to an array of length 10, with the value at index equal to label set to 1, and all others set to 0"
      ]
    },
    {
      "cell_type": "markdown",
      "metadata": {
        "id": "Vjx_LI4_AjQH"
      },
      "source": [
        "## **Model Building**\n",
        "\n",
        "Now that we have done data preprocessing, let's build a CNN model.\n",
        "Fix the seed for random number generators"
      ]
    },
    {
      "cell_type": "code",
      "execution_count": 127,
      "metadata": {
        "id": "ZY5pyF4-KDNt"
      },
      "outputs": [],
      "source": [
        "from tensorflow.keras import backend\n",
        "backend.clear_session()\n",
        "\n",
        "# Fixing the seed for random number generators so that we can ensure we receive the same output everytime\n",
        "np.random.seed(42)\n",
        "import random\n",
        "random.seed(42)\n",
        "tf.random.set_seed(42)"
      ]
    },
    {
      "cell_type": "markdown",
      "metadata": {
        "id": "1JUAczhzAjQH"
      },
      "source": [
        "### **Model Architecture**\n",
        "- **Write a function** that returns a sequential model with the following architecture:\n",
        " - First Convolutional layer with **16 filters and the kernel size of 3x3**. Use the **'same' padding** and provide the **input shape = (32, 32, 1)**\n",
        " - Add a **LeakyRelu layer** with the **slope equal to 0.1**\n",
        " - Second Convolutional layer with **32 filters and the kernel size of 3x3 with 'same' padding**\n",
        " - Another **LeakyRelu** with the **slope equal to 0.1**\n",
        " - A **max-pooling layer** with a **pool size of 2x2**\n",
        " - **Flatten** the output from the previous layer\n",
        " - Add a **dense layer with 32 nodes**\n",
        " - Add a **LeakyRelu layer with the slope equal to 0.1**\n",
        " - Add the final **output layer with nodes equal to the number of classes, i.e., 10** and **'softmax' as the activation function**\n",
        " - Compile the model with the **loss equal to categorical_crossentropy, optimizer equal to Adam(learning_rate = 0.001), and metric equal to 'accuracy'**. Do not fit the model here, just return the compiled model.\n",
        "- Call the function cnn_model_1 and store the output in a new variable.\n",
        "- Print the summary of the model.\n",
        "- Fit the model on the training data with a **validation split of 0.2, batch size = 32, verbose = 1, and epochs = 20**. Store the model building history to use later for visualization."
      ]
    },
    {
      "cell_type": "markdown",
      "metadata": {
        "id": "JWsAd45JKDNu"
      },
      "source": [
        "### **Build and train a CNN model as per the above mentioned architecture.**"
      ]
    },
    {
      "cell_type": "code",
      "execution_count": 128,
      "metadata": {
        "id": "L1jOYANWAjQH"
      },
      "outputs": [],
      "source": [
        "# Intializing a sequential model\n",
        "cnn_model_1 = Sequential()\n",
        "\n",
        "# Adding first conv layer with 16 filters and kernel size 3x3 , padding = 'same'\n",
        "cnn_model_1.add(Conv2D(16, (3, 3), padding=\"same\", input_shape=(32, 32, 1)))\n",
        "# adding leaky relu with slope 0.1\n",
        "cnn_model_1.add(LeakyReLU(alpha=0.1))\n",
        "# Adding second conv layer with 32 filters and kernel size 3x3 , padding = 'same'\n",
        "cnn_model_1.add(Conv2D(32, (3, 3), padding=\"same\"))\n",
        "# adding leaky relu with slope 0.1\n",
        "cnn_model_1.add(LeakyReLU(alpha=0.1))\n",
        "\n",
        "# Adding max pooling to reduce the size of output\n",
        "cnn_model_1.add(MaxPooling2D((2, 2), padding = 'same'))\n",
        "\n",
        "\n",
        "# flattening the output of the conv layer after max pooling to make it ready for creating dense connections\n",
        "cnn_model_1.add(Flatten())\n",
        "\n",
        "# Adding a fully connected dense layer with 32 neurons\n",
        "cnn_model_1.add(Dense(32))\n",
        "# adding leaky relu with slope 0.1\n",
        "cnn_model_1.add(LeakyReLU(alpha=0.1))\n",
        "\n",
        "# Adding the output layer with 10 neurons and activation functions as softmax since this is a multi-class classification problem\n",
        "cnn_model_1.add(Dense(10, activation='softmax'))\n"
      ]
    },
    {
      "cell_type": "code",
      "source": [
        "cnn_model_1.summary()"
      ],
      "metadata": {
        "colab": {
          "base_uri": "https://localhost:8080/"
        },
        "id": "KzMqDI73f47y",
        "outputId": "de964626-75a9-45ca-ed05-a781b50e8926"
      },
      "execution_count": 129,
      "outputs": [
        {
          "output_type": "stream",
          "name": "stdout",
          "text": [
            "Model: \"sequential\"\n",
            "_________________________________________________________________\n",
            " Layer (type)                Output Shape              Param #   \n",
            "=================================================================\n",
            " conv2d (Conv2D)             (None, 32, 32, 16)        160       \n",
            "                                                                 \n",
            " leaky_re_lu (LeakyReLU)     (None, 32, 32, 16)        0         \n",
            "                                                                 \n",
            " conv2d_1 (Conv2D)           (None, 32, 32, 32)        4640      \n",
            "                                                                 \n",
            " leaky_re_lu_1 (LeakyReLU)   (None, 32, 32, 32)        0         \n",
            "                                                                 \n",
            " max_pooling2d (MaxPooling2  (None, 16, 16, 32)        0         \n",
            " D)                                                              \n",
            "                                                                 \n",
            " flatten (Flatten)           (None, 8192)              0         \n",
            "                                                                 \n",
            " dense (Dense)               (None, 32)                262176    \n",
            "                                                                 \n",
            " leaky_re_lu_2 (LeakyReLU)   (None, 32)                0         \n",
            "                                                                 \n",
            " dense_1 (Dense)             (None, 10)                330       \n",
            "                                                                 \n",
            "=================================================================\n",
            "Total params: 267306 (1.02 MB)\n",
            "Trainable params: 267306 (1.02 MB)\n",
            "Non-trainable params: 0 (0.00 Byte)\n",
            "_________________________________________________________________\n"
          ]
        }
      ]
    },
    {
      "cell_type": "code",
      "source": [
        "# Compile the model with the loss equal to categorical_crossentropy, optimizer equal to Adam(learning_rate = 0.001), and metric equal to 'accuracy'\n",
        "\n",
        "cnn_model_1.compile(optimizer = 'adam', loss = 'categorical_crossentropy',  metrics = ['accuracy'])\n"
      ],
      "metadata": {
        "id": "vlcdhSNEgfff"
      },
      "execution_count": 131,
      "outputs": []
    },
    {
      "cell_type": "code",
      "source": [
        "hist_cnn_model_1 = cnn_model_1.fit(X_train_norm, y_train_encoded,\n",
        "          validation_split=0.2,\n",
        "          epochs=20,\n",
        "          batch_size=32,verbose=1)"
      ],
      "metadata": {
        "colab": {
          "base_uri": "https://localhost:8080/"
        },
        "id": "fEOgoPazgPn8",
        "outputId": "b9da5151-da43-448a-e38f-b1082de2375a"
      },
      "execution_count": 132,
      "outputs": [
        {
          "output_type": "stream",
          "name": "stdout",
          "text": [
            "Epoch 1/20\n",
            "1050/1050 [==============================] - 8s 5ms/step - loss: 1.1142 - accuracy: 0.6381 - val_loss: 0.6494 - val_accuracy: 0.8126\n",
            "Epoch 2/20\n",
            "1050/1050 [==============================] - 4s 4ms/step - loss: 0.5463 - accuracy: 0.8449 - val_loss: 0.5310 - val_accuracy: 0.8493\n",
            "Epoch 3/20\n",
            "1050/1050 [==============================] - 4s 4ms/step - loss: 0.4549 - accuracy: 0.8656 - val_loss: 0.5151 - val_accuracy: 0.8567\n",
            "Epoch 4/20\n",
            "1050/1050 [==============================] - 5s 5ms/step - loss: 0.3917 - accuracy: 0.8858 - val_loss: 0.4507 - val_accuracy: 0.8748\n",
            "Epoch 5/20\n",
            "1050/1050 [==============================] - 5s 5ms/step - loss: 0.3421 - accuracy: 0.8983 - val_loss: 0.4750 - val_accuracy: 0.8692\n",
            "Epoch 6/20\n",
            "1050/1050 [==============================] - 5s 5ms/step - loss: 0.3062 - accuracy: 0.9080 - val_loss: 0.4595 - val_accuracy: 0.8763\n",
            "Epoch 7/20\n",
            "1050/1050 [==============================] - 4s 4ms/step - loss: 0.2729 - accuracy: 0.9174 - val_loss: 0.4548 - val_accuracy: 0.8756\n",
            "Epoch 8/20\n",
            "1050/1050 [==============================] - 4s 4ms/step - loss: 0.2425 - accuracy: 0.9268 - val_loss: 0.4768 - val_accuracy: 0.8712\n",
            "Epoch 9/20\n",
            "1050/1050 [==============================] - 5s 5ms/step - loss: 0.2190 - accuracy: 0.9328 - val_loss: 0.4814 - val_accuracy: 0.8760\n",
            "Epoch 10/20\n",
            "1050/1050 [==============================] - 4s 4ms/step - loss: 0.1940 - accuracy: 0.9402 - val_loss: 0.4980 - val_accuracy: 0.8783\n",
            "Epoch 11/20\n",
            "1050/1050 [==============================] - 5s 5ms/step - loss: 0.1760 - accuracy: 0.9451 - val_loss: 0.5388 - val_accuracy: 0.8754\n",
            "Epoch 12/20\n",
            "1050/1050 [==============================] - 4s 4ms/step - loss: 0.1566 - accuracy: 0.9506 - val_loss: 0.5790 - val_accuracy: 0.8755\n",
            "Epoch 13/20\n",
            "1050/1050 [==============================] - 4s 4ms/step - loss: 0.1409 - accuracy: 0.9550 - val_loss: 0.6135 - val_accuracy: 0.8696\n",
            "Epoch 14/20\n",
            "1050/1050 [==============================] - 5s 5ms/step - loss: 0.1288 - accuracy: 0.9593 - val_loss: 0.6352 - val_accuracy: 0.8717\n",
            "Epoch 15/20\n",
            "1050/1050 [==============================] - 4s 4ms/step - loss: 0.1155 - accuracy: 0.9632 - val_loss: 0.6493 - val_accuracy: 0.8718\n",
            "Epoch 16/20\n",
            "1050/1050 [==============================] - 4s 4ms/step - loss: 0.1075 - accuracy: 0.9651 - val_loss: 0.6660 - val_accuracy: 0.8739\n",
            "Epoch 17/20\n",
            "1050/1050 [==============================] - 5s 5ms/step - loss: 0.0982 - accuracy: 0.9679 - val_loss: 0.7243 - val_accuracy: 0.8714\n",
            "Epoch 18/20\n",
            "1050/1050 [==============================] - 4s 4ms/step - loss: 0.0882 - accuracy: 0.9721 - val_loss: 0.7469 - val_accuracy: 0.8710\n",
            "Epoch 19/20\n",
            "1050/1050 [==============================] - 5s 5ms/step - loss: 0.0812 - accuracy: 0.9724 - val_loss: 0.8019 - val_accuracy: 0.8665\n",
            "Epoch 20/20\n",
            "1050/1050 [==============================] - 4s 4ms/step - loss: 0.0749 - accuracy: 0.9752 - val_loss: 0.8637 - val_accuracy: 0.8631\n"
          ]
        }
      ]
    },
    {
      "cell_type": "markdown",
      "metadata": {
        "id": "JPzfIf9kKDNw"
      },
      "source": [
        "### **Plot the Training and Validation Accuracies and Write your observations.**"
      ]
    },
    {
      "cell_type": "code",
      "execution_count": 133,
      "metadata": {
        "id": "07oUCr1kAjQH",
        "colab": {
          "base_uri": "https://localhost:8080/",
          "height": 206
        },
        "outputId": "572d4c69-e4dc-45b0-caac-42ceb91ced7f"
      },
      "outputs": [
        {
          "output_type": "execute_result",
          "data": {
            "text/plain": [
              "       loss  accuracy  val_loss  val_accuracy  epoch\n",
              "0  1.114217  0.638125  0.649438      0.812619      0\n",
              "1  0.546332  0.844851  0.530994      0.849286      1\n",
              "2  0.454887  0.865565  0.515072      0.856667      2\n",
              "3  0.391696  0.885833  0.450698      0.874762      3\n",
              "4  0.342132  0.898333  0.475016      0.869167      4"
            ],
            "text/html": [
              "\n",
              "  <div id=\"df-cd3c4cda-6d41-4043-b3a6-377d8b1c9661\" class=\"colab-df-container\">\n",
              "    <div>\n",
              "<style scoped>\n",
              "    .dataframe tbody tr th:only-of-type {\n",
              "        vertical-align: middle;\n",
              "    }\n",
              "\n",
              "    .dataframe tbody tr th {\n",
              "        vertical-align: top;\n",
              "    }\n",
              "\n",
              "    .dataframe thead th {\n",
              "        text-align: right;\n",
              "    }\n",
              "</style>\n",
              "<table border=\"1\" class=\"dataframe\">\n",
              "  <thead>\n",
              "    <tr style=\"text-align: right;\">\n",
              "      <th></th>\n",
              "      <th>loss</th>\n",
              "      <th>accuracy</th>\n",
              "      <th>val_loss</th>\n",
              "      <th>val_accuracy</th>\n",
              "      <th>epoch</th>\n",
              "    </tr>\n",
              "  </thead>\n",
              "  <tbody>\n",
              "    <tr>\n",
              "      <th>0</th>\n",
              "      <td>1.114217</td>\n",
              "      <td>0.638125</td>\n",
              "      <td>0.649438</td>\n",
              "      <td>0.812619</td>\n",
              "      <td>0</td>\n",
              "    </tr>\n",
              "    <tr>\n",
              "      <th>1</th>\n",
              "      <td>0.546332</td>\n",
              "      <td>0.844851</td>\n",
              "      <td>0.530994</td>\n",
              "      <td>0.849286</td>\n",
              "      <td>1</td>\n",
              "    </tr>\n",
              "    <tr>\n",
              "      <th>2</th>\n",
              "      <td>0.454887</td>\n",
              "      <td>0.865565</td>\n",
              "      <td>0.515072</td>\n",
              "      <td>0.856667</td>\n",
              "      <td>2</td>\n",
              "    </tr>\n",
              "    <tr>\n",
              "      <th>3</th>\n",
              "      <td>0.391696</td>\n",
              "      <td>0.885833</td>\n",
              "      <td>0.450698</td>\n",
              "      <td>0.874762</td>\n",
              "      <td>3</td>\n",
              "    </tr>\n",
              "    <tr>\n",
              "      <th>4</th>\n",
              "      <td>0.342132</td>\n",
              "      <td>0.898333</td>\n",
              "      <td>0.475016</td>\n",
              "      <td>0.869167</td>\n",
              "      <td>4</td>\n",
              "    </tr>\n",
              "  </tbody>\n",
              "</table>\n",
              "</div>\n",
              "    <div class=\"colab-df-buttons\">\n",
              "\n",
              "  <div class=\"colab-df-container\">\n",
              "    <button class=\"colab-df-convert\" onclick=\"convertToInteractive('df-cd3c4cda-6d41-4043-b3a6-377d8b1c9661')\"\n",
              "            title=\"Convert this dataframe to an interactive table.\"\n",
              "            style=\"display:none;\">\n",
              "\n",
              "  <svg xmlns=\"http://www.w3.org/2000/svg\" height=\"24px\" viewBox=\"0 -960 960 960\">\n",
              "    <path d=\"M120-120v-720h720v720H120Zm60-500h600v-160H180v160Zm220 220h160v-160H400v160Zm0 220h160v-160H400v160ZM180-400h160v-160H180v160Zm440 0h160v-160H620v160ZM180-180h160v-160H180v160Zm440 0h160v-160H620v160Z\"/>\n",
              "  </svg>\n",
              "    </button>\n",
              "\n",
              "  <style>\n",
              "    .colab-df-container {\n",
              "      display:flex;\n",
              "      gap: 12px;\n",
              "    }\n",
              "\n",
              "    .colab-df-convert {\n",
              "      background-color: #E8F0FE;\n",
              "      border: none;\n",
              "      border-radius: 50%;\n",
              "      cursor: pointer;\n",
              "      display: none;\n",
              "      fill: #1967D2;\n",
              "      height: 32px;\n",
              "      padding: 0 0 0 0;\n",
              "      width: 32px;\n",
              "    }\n",
              "\n",
              "    .colab-df-convert:hover {\n",
              "      background-color: #E2EBFA;\n",
              "      box-shadow: 0px 1px 2px rgba(60, 64, 67, 0.3), 0px 1px 3px 1px rgba(60, 64, 67, 0.15);\n",
              "      fill: #174EA6;\n",
              "    }\n",
              "\n",
              "    .colab-df-buttons div {\n",
              "      margin-bottom: 4px;\n",
              "    }\n",
              "\n",
              "    [theme=dark] .colab-df-convert {\n",
              "      background-color: #3B4455;\n",
              "      fill: #D2E3FC;\n",
              "    }\n",
              "\n",
              "    [theme=dark] .colab-df-convert:hover {\n",
              "      background-color: #434B5C;\n",
              "      box-shadow: 0px 1px 3px 1px rgba(0, 0, 0, 0.15);\n",
              "      filter: drop-shadow(0px 1px 2px rgba(0, 0, 0, 0.3));\n",
              "      fill: #FFFFFF;\n",
              "    }\n",
              "  </style>\n",
              "\n",
              "    <script>\n",
              "      const buttonEl =\n",
              "        document.querySelector('#df-cd3c4cda-6d41-4043-b3a6-377d8b1c9661 button.colab-df-convert');\n",
              "      buttonEl.style.display =\n",
              "        google.colab.kernel.accessAllowed ? 'block' : 'none';\n",
              "\n",
              "      async function convertToInteractive(key) {\n",
              "        const element = document.querySelector('#df-cd3c4cda-6d41-4043-b3a6-377d8b1c9661');\n",
              "        const dataTable =\n",
              "          await google.colab.kernel.invokeFunction('convertToInteractive',\n",
              "                                                    [key], {});\n",
              "        if (!dataTable) return;\n",
              "\n",
              "        const docLinkHtml = 'Like what you see? Visit the ' +\n",
              "          '<a target=\"_blank\" href=https://colab.research.google.com/notebooks/data_table.ipynb>data table notebook</a>'\n",
              "          + ' to learn more about interactive tables.';\n",
              "        element.innerHTML = '';\n",
              "        dataTable['output_type'] = 'display_data';\n",
              "        await google.colab.output.renderOutput(dataTable, element);\n",
              "        const docLink = document.createElement('div');\n",
              "        docLink.innerHTML = docLinkHtml;\n",
              "        element.appendChild(docLink);\n",
              "      }\n",
              "    </script>\n",
              "  </div>\n",
              "\n",
              "\n",
              "<div id=\"df-ff107707-d868-4ad0-9540-1ff30ac63311\">\n",
              "  <button class=\"colab-df-quickchart\" onclick=\"quickchart('df-ff107707-d868-4ad0-9540-1ff30ac63311')\"\n",
              "            title=\"Suggest charts\"\n",
              "            style=\"display:none;\">\n",
              "\n",
              "<svg xmlns=\"http://www.w3.org/2000/svg\" height=\"24px\"viewBox=\"0 0 24 24\"\n",
              "     width=\"24px\">\n",
              "    <g>\n",
              "        <path d=\"M19 3H5c-1.1 0-2 .9-2 2v14c0 1.1.9 2 2 2h14c1.1 0 2-.9 2-2V5c0-1.1-.9-2-2-2zM9 17H7v-7h2v7zm4 0h-2V7h2v10zm4 0h-2v-4h2v4z\"/>\n",
              "    </g>\n",
              "</svg>\n",
              "  </button>\n",
              "\n",
              "<style>\n",
              "  .colab-df-quickchart {\n",
              "      --bg-color: #E8F0FE;\n",
              "      --fill-color: #1967D2;\n",
              "      --hover-bg-color: #E2EBFA;\n",
              "      --hover-fill-color: #174EA6;\n",
              "      --disabled-fill-color: #AAA;\n",
              "      --disabled-bg-color: #DDD;\n",
              "  }\n",
              "\n",
              "  [theme=dark] .colab-df-quickchart {\n",
              "      --bg-color: #3B4455;\n",
              "      --fill-color: #D2E3FC;\n",
              "      --hover-bg-color: #434B5C;\n",
              "      --hover-fill-color: #FFFFFF;\n",
              "      --disabled-bg-color: #3B4455;\n",
              "      --disabled-fill-color: #666;\n",
              "  }\n",
              "\n",
              "  .colab-df-quickchart {\n",
              "    background-color: var(--bg-color);\n",
              "    border: none;\n",
              "    border-radius: 50%;\n",
              "    cursor: pointer;\n",
              "    display: none;\n",
              "    fill: var(--fill-color);\n",
              "    height: 32px;\n",
              "    padding: 0;\n",
              "    width: 32px;\n",
              "  }\n",
              "\n",
              "  .colab-df-quickchart:hover {\n",
              "    background-color: var(--hover-bg-color);\n",
              "    box-shadow: 0 1px 2px rgba(60, 64, 67, 0.3), 0 1px 3px 1px rgba(60, 64, 67, 0.15);\n",
              "    fill: var(--button-hover-fill-color);\n",
              "  }\n",
              "\n",
              "  .colab-df-quickchart-complete:disabled,\n",
              "  .colab-df-quickchart-complete:disabled:hover {\n",
              "    background-color: var(--disabled-bg-color);\n",
              "    fill: var(--disabled-fill-color);\n",
              "    box-shadow: none;\n",
              "  }\n",
              "\n",
              "  .colab-df-spinner {\n",
              "    border: 2px solid var(--fill-color);\n",
              "    border-color: transparent;\n",
              "    border-bottom-color: var(--fill-color);\n",
              "    animation:\n",
              "      spin 1s steps(1) infinite;\n",
              "  }\n",
              "\n",
              "  @keyframes spin {\n",
              "    0% {\n",
              "      border-color: transparent;\n",
              "      border-bottom-color: var(--fill-color);\n",
              "      border-left-color: var(--fill-color);\n",
              "    }\n",
              "    20% {\n",
              "      border-color: transparent;\n",
              "      border-left-color: var(--fill-color);\n",
              "      border-top-color: var(--fill-color);\n",
              "    }\n",
              "    30% {\n",
              "      border-color: transparent;\n",
              "      border-left-color: var(--fill-color);\n",
              "      border-top-color: var(--fill-color);\n",
              "      border-right-color: var(--fill-color);\n",
              "    }\n",
              "    40% {\n",
              "      border-color: transparent;\n",
              "      border-right-color: var(--fill-color);\n",
              "      border-top-color: var(--fill-color);\n",
              "    }\n",
              "    60% {\n",
              "      border-color: transparent;\n",
              "      border-right-color: var(--fill-color);\n",
              "    }\n",
              "    80% {\n",
              "      border-color: transparent;\n",
              "      border-right-color: var(--fill-color);\n",
              "      border-bottom-color: var(--fill-color);\n",
              "    }\n",
              "    90% {\n",
              "      border-color: transparent;\n",
              "      border-bottom-color: var(--fill-color);\n",
              "    }\n",
              "  }\n",
              "</style>\n",
              "\n",
              "  <script>\n",
              "    async function quickchart(key) {\n",
              "      const quickchartButtonEl =\n",
              "        document.querySelector('#' + key + ' button');\n",
              "      quickchartButtonEl.disabled = true;  // To prevent multiple clicks.\n",
              "      quickchartButtonEl.classList.add('colab-df-spinner');\n",
              "      try {\n",
              "        const charts = await google.colab.kernel.invokeFunction(\n",
              "            'suggestCharts', [key], {});\n",
              "      } catch (error) {\n",
              "        console.error('Error during call to suggestCharts:', error);\n",
              "      }\n",
              "      quickchartButtonEl.classList.remove('colab-df-spinner');\n",
              "      quickchartButtonEl.classList.add('colab-df-quickchart-complete');\n",
              "    }\n",
              "    (() => {\n",
              "      let quickchartButtonEl =\n",
              "        document.querySelector('#df-ff107707-d868-4ad0-9540-1ff30ac63311 button');\n",
              "      quickchartButtonEl.style.display =\n",
              "        google.colab.kernel.accessAllowed ? 'block' : 'none';\n",
              "    })();\n",
              "  </script>\n",
              "</div>\n",
              "    </div>\n",
              "  </div>\n"
            ]
          },
          "metadata": {},
          "execution_count": 133
        }
      ],
      "source": [
        "# Capturing learning history per epoch\n",
        "hist_3  = pd.DataFrame(hist_cnn_model_1.history)\n",
        "hist_3['epoch'] = hist_cnn_model_1.epoch\n",
        "hist_3.head()"
      ]
    },
    {
      "cell_type": "code",
      "source": [
        "# Plotting accuracy at different epochs\n",
        "plt.plot(hist_3['accuracy'])\n",
        "plt.plot(hist_3['val_accuracy'])\n",
        "plt.title('Model Accuracy')\n",
        "plt.ylabel('Accuracy')\n",
        "plt.xlabel('Epoch')\n",
        "plt.legend(['Train', 'Validation'], loc='upper left')\n",
        "plt.show()"
      ],
      "metadata": {
        "colab": {
          "base_uri": "https://localhost:8080/",
          "height": 472
        },
        "id": "icVxA1mKh2Bd",
        "outputId": "d582ac1a-c725-4bcb-a39c-fa4a4d83a60d"
      },
      "execution_count": 134,
      "outputs": [
        {
          "output_type": "display_data",
          "data": {
            "text/plain": [
              "<Figure size 640x480 with 1 Axes>"
            ],
            "image/png": "[encoded data removed]"
          },
          "metadata": {}
        }
      ]
    },
    {
      "cell_type": "markdown",
      "metadata": {
        "id": "P6zTLyp9AjQH"
      },
      "source": [
        "**Observations:**\n",
        "1. model has achieved accuracy reaching 97% on training set\n",
        "2. however accuracy on the test set is significantly lower around 86% suggesting that model might be overfitting"
      ]
    },
    {
      "cell_type": "markdown",
      "metadata": {
        "id": "Ukvtg2eMAjQH"
      },
      "source": [
        "Let's build another model and see if we can get a better model with generalized performance.\n",
        "\n",
        "First, we need to clear the previous model's history from the Keras backend. Also, let's fix the seed again after clearing the backend."
      ]
    },
    {
      "cell_type": "code",
      "execution_count": 135,
      "metadata": {
        "id": "HbKi93HTolGW"
      },
      "outputs": [],
      "source": [
        "from tensorflow.keras import backend\n",
        "backend.clear_session()\n",
        "\n",
        "# Fixing the seed for random number generators so that we can ensure we receive the same output everytime\n",
        "np.random.seed(42)\n",
        "import random\n",
        "random.seed(42)\n",
        "tf.random.set_seed(42)"
      ]
    },
    {
      "cell_type": "markdown",
      "metadata": {
        "id": "Ep19Jd8HAjQH"
      },
      "source": [
        "### **Second Model Architecture**\n",
        "\n",
        "- Write a function that returns a sequential model with the following architecture:\n",
        " - First Convolutional layer with **16 filters and the kernel size of 3x3**. Use the **'same' padding** and provide the **input shape = (32, 32, 1)**\n",
        " - Add a **LeakyRelu layer** with the **slope equal to 0.1**\n",
        " - Second Convolutional layer with **32 filters and the kernel size of 3x3 with 'same' padding**\n",
        " - Add **LeakyRelu** with the **slope equal to 0.1**\n",
        " - Add a **max-pooling layer** with a **pool size of 2x2**\n",
        " - Add a **BatchNormalization layer**\n",
        " - Third Convolutional layer with **32 filters and the kernel size of 3x3 with 'same' padding**\n",
        " - Add a **LeakyRelu layer with the slope equal to 0.1**\n",
        " - Fourth Convolutional layer **64 filters and the kernel size of 3x3 with 'same' padding**\n",
        " - Add a **LeakyRelu layer with the slope equal to 0.1**\n",
        " - Add a **max-pooling layer** with a **pool size of 2x2**\n",
        " - Add a **BatchNormalization layer**\n",
        " - **Flatten** the output from the previous layer\n",
        " - Add a **dense layer with 32 nodes**\n",
        " - Add a **LeakyRelu layer with the slope equal to 0.1**\n",
        " - Add a **dropout layer with the rate equal to 0.5**\n",
        " - Add the final **output layer with nodes equal to the number of classes, i.e., 10** and **'softmax' as the activation function**\n",
        " - Compile the model with the **categorical_crossentropy loss, adam optimizers (learning_rate = 0.001), and metric equal to 'accuracy'**. Do not fit the model here, just return the compiled model.\n",
        "- Call the function cnn_model_2 and store the model in a new variable.\n",
        "- Print the summary of the model.\n",
        "- Fit the model on the train data with a **validation split of 0.2, batch size = 128, verbose = 1, and epochs = 30**. Store the model building history to use later for visualization."
      ]
    },
    {
      "cell_type": "markdown",
      "metadata": {
        "id": "y5IBLS1eKDNy"
      },
      "source": [
        "### **Build and train the second CNN model as per the above mentioned architecture.**"
      ]
    },
    {
      "cell_type": "code",
      "execution_count": 136,
      "metadata": {
        "id": "wk9sl2UEAjQH"
      },
      "outputs": [],
      "source": [
        "# Intializing a sequential model\n",
        "cnn_model_2 = Sequential()\n",
        "\n",
        "# Adding first conv layer with 16 filters and kernel size 3x3 , padding = 'same'\n",
        "cnn_model_2.add(Conv2D(16, (3, 3), padding=\"same\", input_shape=(32, 32, 1)))\n",
        "# adding leaky relu with slope 0.1\n",
        "cnn_model_2.add(LeakyReLU(alpha=0.1))\n",
        "# Adding second conv layer with 32 filters and kernel size 3x3 , padding = 'same'\n",
        "cnn_model_2.add(Conv2D(32, (3, 3), padding=\"same\"))\n",
        "# adding leaky relu with slope 0.1\n",
        "cnn_model_2.add(LeakyReLU(alpha=0.1))\n",
        "\n",
        "# Adding max pooling to reduce the size of output\n",
        "cnn_model_2.add(MaxPooling2D((2, 2), padding = 'same'))\n",
        "\n",
        "# adding batch normalization layer\n",
        "cnn_model_2.add(BatchNormalization())\n",
        "\n",
        "# Adding third conv layer with 32 filters and kernel size 3x3 , padding = 'same'\n",
        "cnn_model_2.add(Conv2D(32, (3, 3), padding=\"same\", input_shape=(32, 32, 1)))\n",
        "# adding leaky relu with slope 0.1\n",
        "cnn_model_2.add(LeakyReLU(alpha=0.1))\n",
        "# Adding forth conv layer with 64 filters and kernel size 3x3 , padding = 'same'\n",
        "cnn_model_2.add(Conv2D(64, (3, 3), padding=\"same\"))\n",
        "# adding leaky relu with slope 0.1\n",
        "cnn_model_2.add(LeakyReLU(alpha=0.1))\n",
        "\n",
        "# Adding max pooling to reduce the size of output\n",
        "cnn_model_2.add(MaxPooling2D((2, 2), padding = 'same'))\n",
        "\n",
        "# adding batch normalization layer\n",
        "cnn_model_2.add(BatchNormalization())\n",
        "\n",
        "\n",
        "# flattening the output of the conv layer after max pooling to make it ready for creating dense connections\n",
        "cnn_model_2.add(Flatten())\n",
        "\n",
        "# Adding a fully connected dense layer with 32 neurons\n",
        "cnn_model_2.add(Dense(32))\n",
        "# adding leaky relu with slope 0.1\n",
        "cnn_model_2.add(LeakyReLU(alpha=0.1))\n",
        "# add dropout layer\n",
        "cnn_model_2.add(Dropout(0.5))\n",
        "# Adding the output layer with 10 neurons and activation functions as softmax since this is a multi-class classification problem\n",
        "cnn_model_2.add(Dense(10, activation='softmax'))"
      ]
    },
    {
      "cell_type": "code",
      "source": [
        "# Compile the model with the loss equal to categorical_crossentropy, optimizer equal to Adam(learning_rate = 0.001), and metric equal to 'accuracy'\n",
        "\n",
        "cnn_model_2.compile(optimizer = 'adam', loss = 'categorical_crossentropy',  metrics = ['accuracy'])\n"
      ],
      "metadata": {
        "id": "pMWguq5YjF5q"
      },
      "execution_count": 137,
      "outputs": []
    },
    {
      "cell_type": "code",
      "source": [
        "cnn_model_2.summary()"
      ],
      "metadata": {
        "colab": {
          "base_uri": "https://localhost:8080/"
        },
        "id": "07LKi-WIjR4B",
        "outputId": "8018d1cd-34b3-45d5-9855-34908fcd0cc9"
      },
      "execution_count": 138,
      "outputs": [
        {
          "output_type": "stream",
          "name": "stdout",
          "text": [
            "Model: \"sequential\"\n",
            "_________________________________________________________________\n",
            " Layer (type)                Output Shape              Param #   \n",
            "=================================================================\n",
            " conv2d (Conv2D)             (None, 32, 32, 16)        160       \n",
            "                                                                 \n",
            " leaky_re_lu (LeakyReLU)     (None, 32, 32, 16)        0         \n",
            "                                                                 \n",
            " conv2d_1 (Conv2D)           (None, 32, 32, 32)        4640      \n",
            "                                                                 \n",
            " leaky_re_lu_1 (LeakyReLU)   (None, 32, 32, 32)        0         \n",
            "                                                                 \n",
            " max_pooling2d (MaxPooling2  (None, 16, 16, 32)        0         \n",
            " D)                                                              \n",
            "                                                                 \n",
            " batch_normalization (Batch  (None, 16, 16, 32)        128       \n",
            " Normalization)                                                  \n",
            "                                                                 \n",
            " conv2d_2 (Conv2D)           (None, 16, 16, 32)        9248      \n",
            "                                                                 \n",
            " leaky_re_lu_2 (LeakyReLU)   (None, 16, 16, 32)        0         \n",
            "                                                                 \n",
            " conv2d_3 (Conv2D)           (None, 16, 16, 64)        18496     \n",
            "                                                                 \n",
            " leaky_re_lu_3 (LeakyReLU)   (None, 16, 16, 64)        0         \n",
            "                                                                 \n",
            " max_pooling2d_1 (MaxPoolin  (None, 8, 8, 64)          0         \n",
            " g2D)                                                            \n",
            "                                                                 \n",
            " batch_normalization_1 (Bat  (None, 8, 8, 64)          256       \n",
            " chNormalization)                                                \n",
            "                                                                 \n",
            " flatten (Flatten)           (None, 4096)              0         \n",
            "                                                                 \n",
            " dense (Dense)               (None, 32)                131104    \n",
            "                                                                 \n",
            " leaky_re_lu_4 (LeakyReLU)   (None, 32)                0         \n",
            "                                                                 \n",
            " dropout (Dropout)           (None, 32)                0         \n",
            "                                                                 \n",
            " dense_1 (Dense)             (None, 10)                330       \n",
            "                                                                 \n",
            "=================================================================\n",
            "Total params: 164362 (642.04 KB)\n",
            "Trainable params: 164170 (641.29 KB)\n",
            "Non-trainable params: 192 (768.00 Byte)\n",
            "_________________________________________________________________\n"
          ]
        }
      ]
    },
    {
      "cell_type": "code",
      "source": [
        "hist_cnn_model_2 = cnn_model_2.fit(X_train_norm, y_train_encoded,\n",
        "          validation_split=0.2,\n",
        "          epochs=30,\n",
        "          batch_size=128,verbose=1)"
      ],
      "metadata": {
        "colab": {
          "base_uri": "https://localhost:8080/"
        },
        "id": "_3SoOSgrk1k4",
        "outputId": "17826330-757a-4e26-8906-2811477e781d"
      },
      "execution_count": 139,
      "outputs": [
        {
          "output_type": "stream",
          "name": "stdout",
          "text": [
            "Epoch 1/30\n",
            "263/263 [==============================] - 6s 13ms/step - loss: 1.3355 - accuracy: 0.5469 - val_loss: 1.8995 - val_accuracy: 0.4083\n",
            "Epoch 2/30\n",
            "263/263 [==============================] - 2s 9ms/step - loss: 0.6653 - accuracy: 0.7956 - val_loss: 0.6587 - val_accuracy: 0.8227\n",
            "Epoch 3/30\n",
            "263/263 [==============================] - 2s 9ms/step - loss: 0.5485 - accuracy: 0.8319 - val_loss: 0.4458 - val_accuracy: 0.8689\n",
            "Epoch 4/30\n",
            "263/263 [==============================] - 2s 9ms/step - loss: 0.4859 - accuracy: 0.8531 - val_loss: 0.3879 - val_accuracy: 0.8911\n",
            "Epoch 5/30\n",
            "263/263 [==============================] - 2s 9ms/step - loss: 0.4431 - accuracy: 0.8622 - val_loss: 0.3819 - val_accuracy: 0.8967\n",
            "Epoch 6/30\n",
            "263/263 [==============================] - 3s 10ms/step - loss: 0.4047 - accuracy: 0.8774 - val_loss: 0.4167 - val_accuracy: 0.8755\n",
            "Epoch 7/30\n",
            "263/263 [==============================] - 2s 9ms/step - loss: 0.3825 - accuracy: 0.8822 - val_loss: 0.3784 - val_accuracy: 0.8936\n",
            "Epoch 8/30\n",
            "263/263 [==============================] - 2s 9ms/step - loss: 0.3465 - accuracy: 0.8900 - val_loss: 0.3629 - val_accuracy: 0.9049\n",
            "Epoch 9/30\n",
            "263/263 [==============================] - 2s 9ms/step - loss: 0.3270 - accuracy: 0.8981 - val_loss: 0.3638 - val_accuracy: 0.9040\n",
            "Epoch 10/30\n",
            "263/263 [==============================] - 2s 9ms/step - loss: 0.3126 - accuracy: 0.9006 - val_loss: 0.3694 - val_accuracy: 0.8994\n",
            "Epoch 11/30\n",
            "263/263 [==============================] - 3s 10ms/step - loss: 0.2919 - accuracy: 0.9081 - val_loss: 0.3556 - val_accuracy: 0.8968\n",
            "Epoch 12/30\n",
            "263/263 [==============================] - 2s 9ms/step - loss: 0.2779 - accuracy: 0.9110 - val_loss: 0.3852 - val_accuracy: 0.9083\n",
            "Epoch 13/30\n",
            "263/263 [==============================] - 2s 9ms/step - loss: 0.2659 - accuracy: 0.9165 - val_loss: 0.3724 - val_accuracy: 0.9006\n",
            "Epoch 14/30\n",
            "263/263 [==============================] - 2s 9ms/step - loss: 0.2576 - accuracy: 0.9188 - val_loss: 0.3608 - val_accuracy: 0.9051\n",
            "Epoch 15/30\n",
            "263/263 [==============================] - 2s 9ms/step - loss: 0.2480 - accuracy: 0.9211 - val_loss: 0.3842 - val_accuracy: 0.9079\n",
            "Epoch 16/30\n",
            "263/263 [==============================] - 3s 10ms/step - loss: 0.2301 - accuracy: 0.9279 - val_loss: 0.3473 - val_accuracy: 0.9130\n",
            "Epoch 17/30\n",
            "263/263 [==============================] - 2s 9ms/step - loss: 0.2254 - accuracy: 0.9267 - val_loss: 0.3571 - val_accuracy: 0.9133\n",
            "Epoch 18/30\n",
            "263/263 [==============================] - 2s 9ms/step - loss: 0.2089 - accuracy: 0.9318 - val_loss: 0.3875 - val_accuracy: 0.9115\n",
            "Epoch 19/30\n",
            "263/263 [==============================] - 2s 9ms/step - loss: 0.2101 - accuracy: 0.9322 - val_loss: 0.4139 - val_accuracy: 0.9079\n",
            "Epoch 20/30\n",
            "263/263 [==============================] - 2s 9ms/step - loss: 0.2088 - accuracy: 0.9311 - val_loss: 0.3995 - val_accuracy: 0.9171\n",
            "Epoch 21/30\n",
            "263/263 [==============================] - 3s 10ms/step - loss: 0.1907 - accuracy: 0.9374 - val_loss: 0.3910 - val_accuracy: 0.9154\n",
            "Epoch 22/30\n",
            "263/263 [==============================] - 2s 9ms/step - loss: 0.1826 - accuracy: 0.9402 - val_loss: 0.4256 - val_accuracy: 0.9136\n",
            "Epoch 23/30\n",
            "263/263 [==============================] - 2s 9ms/step - loss: 0.1888 - accuracy: 0.9383 - val_loss: 0.4132 - val_accuracy: 0.9052\n",
            "Epoch 24/30\n",
            "263/263 [==============================] - 2s 9ms/step - loss: 0.1796 - accuracy: 0.9404 - val_loss: 0.4279 - val_accuracy: 0.9086\n",
            "Epoch 25/30\n",
            "263/263 [==============================] - 2s 9ms/step - loss: 0.1725 - accuracy: 0.9437 - val_loss: 0.3800 - val_accuracy: 0.9161\n",
            "Epoch 26/30\n",
            "263/263 [==============================] - 3s 10ms/step - loss: 0.1703 - accuracy: 0.9435 - val_loss: 0.3743 - val_accuracy: 0.9189\n",
            "Epoch 27/30\n",
            "263/263 [==============================] - 2s 9ms/step - loss: 0.1618 - accuracy: 0.9467 - val_loss: 0.3875 - val_accuracy: 0.9120\n",
            "Epoch 28/30\n",
            "263/263 [==============================] - 2s 9ms/step - loss: 0.1546 - accuracy: 0.9484 - val_loss: 0.4371 - val_accuracy: 0.9069\n",
            "Epoch 29/30\n",
            "263/263 [==============================] - 2s 9ms/step - loss: 0.1565 - accuracy: 0.9489 - val_loss: 0.4562 - val_accuracy: 0.9090\n",
            "Epoch 30/30\n",
            "263/263 [==============================] - 3s 10ms/step - loss: 0.1525 - accuracy: 0.9494 - val_loss: 0.4352 - val_accuracy: 0.9169\n"
          ]
        }
      ]
    },
    {
      "cell_type": "markdown",
      "metadata": {
        "id": "PyhUtMy3KDN1"
      },
      "source": [
        "### **Plot the Training and Validation accuracies and write your observations.**"
      ]
    },
    {
      "cell_type": "code",
      "execution_count": 142,
      "metadata": {
        "id": "YVQu7uWiAjQH",
        "colab": {
          "base_uri": "https://localhost:8080/",
          "height": 206
        },
        "outputId": "263d384e-182b-4489-9f83-c6938e829c3e"
      },
      "outputs": [
        {
          "output_type": "execute_result",
          "data": {
            "text/plain": [
              "       loss  accuracy  val_loss  val_accuracy  epoch\n",
              "0  1.335464  0.546875  1.899545      0.408333      0\n",
              "1  0.665338  0.795565  0.658689      0.822738      1\n",
              "2  0.548472  0.831935  0.445828      0.868929      2\n",
              "3  0.485934  0.853095  0.387929      0.891071      3\n",
              "4  0.443110  0.862173  0.381920      0.896667      4"
            ],
            "text/html": [
              "\n",
              "  <div id=\"df-d9382315-1d3d-4bf3-beeb-acb09e919615\" class=\"colab-df-container\">\n",
              "    <div>\n",
              "<style scoped>\n",
              "    .dataframe tbody tr th:only-of-type {\n",
              "        vertical-align: middle;\n",
              "    }\n",
              "\n",
              "    .dataframe tbody tr th {\n",
              "        vertical-align: top;\n",
              "    }\n",
              "\n",
              "    .dataframe thead th {\n",
              "        text-align: right;\n",
              "    }\n",
              "</style>\n",
              "<table border=\"1\" class=\"dataframe\">\n",
              "  <thead>\n",
              "    <tr style=\"text-align: right;\">\n",
              "      <th></th>\n",
              "      <th>loss</th>\n",
              "      <th>accuracy</th>\n",
              "      <th>val_loss</th>\n",
              "      <th>val_accuracy</th>\n",
              "      <th>epoch</th>\n",
              "    </tr>\n",
              "  </thead>\n",
              "  <tbody>\n",
              "    <tr>\n",
              "      <th>0</th>\n",
              "      <td>1.335464</td>\n",
              "      <td>0.546875</td>\n",
              "      <td>1.899545</td>\n",
              "      <td>0.408333</td>\n",
              "      <td>0</td>\n",
              "    </tr>\n",
              "    <tr>\n",
              "      <th>1</th>\n",
              "      <td>0.665338</td>\n",
              "      <td>0.795565</td>\n",
              "      <td>0.658689</td>\n",
              "      <td>0.822738</td>\n",
              "      <td>1</td>\n",
              "    </tr>\n",
              "    <tr>\n",
              "      <th>2</th>\n",
              "      <td>0.548472</td>\n",
              "      <td>0.831935</td>\n",
              "      <td>0.445828</td>\n",
              "      <td>0.868929</td>\n",
              "      <td>2</td>\n",
              "    </tr>\n",
              "    <tr>\n",
              "      <th>3</th>\n",
              "      <td>0.485934</td>\n",
              "      <td>0.853095</td>\n",
              "      <td>0.387929</td>\n",
              "      <td>0.891071</td>\n",
              "      <td>3</td>\n",
              "    </tr>\n",
              "    <tr>\n",
              "      <th>4</th>\n",
              "      <td>0.443110</td>\n",
              "      <td>0.862173</td>\n",
              "      <td>0.381920</td>\n",
              "      <td>0.896667</td>\n",
              "      <td>4</td>\n",
              "    </tr>\n",
              "  </tbody>\n",
              "</table>\n",
              "</div>\n",
              "    <div class=\"colab-df-buttons\">\n",
              "\n",
              "  <div class=\"colab-df-container\">\n",
              "    <button class=\"colab-df-convert\" onclick=\"convertToInteractive('df-d9382315-1d3d-4bf3-beeb-acb09e919615')\"\n",
              "            title=\"Convert this dataframe to an interactive table.\"\n",
              "            style=\"display:none;\">\n",
              "\n",
              "  <svg xmlns=\"http://www.w3.org/2000/svg\" height=\"24px\" viewBox=\"0 -960 960 960\">\n",
              "    <path d=\"M120-120v-720h720v720H120Zm60-500h600v-160H180v160Zm220 220h160v-160H400v160Zm0 220h160v-160H400v160ZM180-400h160v-160H180v160Zm440 0h160v-160H620v160ZM180-180h160v-160H180v160Zm440 0h160v-160H620v160Z\"/>\n",
              "  </svg>\n",
              "    </button>\n",
              "\n",
              "  <style>\n",
              "    .colab-df-container {\n",
              "      display:flex;\n",
              "      gap: 12px;\n",
              "    }\n",
              "\n",
              "    .colab-df-convert {\n",
              "      background-color: #E8F0FE;\n",
              "      border: none;\n",
              "      border-radius: 50%;\n",
              "      cursor: pointer;\n",
              "      display: none;\n",
              "      fill: #1967D2;\n",
              "      height: 32px;\n",
              "      padding: 0 0 0 0;\n",
              "      width: 32px;\n",
              "    }\n",
              "\n",
              "    .colab-df-convert:hover {\n",
              "      background-color: #E2EBFA;\n",
              "      box-shadow: 0px 1px 2px rgba(60, 64, 67, 0.3), 0px 1px 3px 1px rgba(60, 64, 67, 0.15);\n",
              "      fill: #174EA6;\n",
              "    }\n",
              "\n",
              "    .colab-df-buttons div {\n",
              "      margin-bottom: 4px;\n",
              "    }\n",
              "\n",
              "    [theme=dark] .colab-df-convert {\n",
              "      background-color: #3B4455;\n",
              "      fill: #D2E3FC;\n",
              "    }\n",
              "\n",
              "    [theme=dark] .colab-df-convert:hover {\n",
              "      background-color: #434B5C;\n",
              "      box-shadow: 0px 1px 3px 1px rgba(0, 0, 0, 0.15);\n",
              "      filter: drop-shadow(0px 1px 2px rgba(0, 0, 0, 0.3));\n",
              "      fill: #FFFFFF;\n",
              "    }\n",
              "  </style>\n",
              "\n",
              "    <script>\n",
              "      const buttonEl =\n",
              "        document.querySelector('#df-d9382315-1d3d-4bf3-beeb-acb09e919615 button.colab-df-convert');\n",
              "      buttonEl.style.display =\n",
              "        google.colab.kernel.accessAllowed ? 'block' : 'none';\n",
              "\n",
              "      async function convertToInteractive(key) {\n",
              "        const element = document.querySelector('#df-d9382315-1d3d-4bf3-beeb-acb09e919615');\n",
              "        const dataTable =\n",
              "          await google.colab.kernel.invokeFunction('convertToInteractive',\n",
              "                                                    [key], {});\n",
              "        if (!dataTable) return;\n",
              "\n",
              "        const docLinkHtml = 'Like what you see? Visit the ' +\n",
              "          '<a target=\"_blank\" href=https://colab.research.google.com/notebooks/data_table.ipynb>data table notebook</a>'\n",
              "          + ' to learn more about interactive tables.';\n",
              "        element.innerHTML = '';\n",
              "        dataTable['output_type'] = 'display_data';\n",
              "        await google.colab.output.renderOutput(dataTable, element);\n",
              "        const docLink = document.createElement('div');\n",
              "        docLink.innerHTML = docLinkHtml;\n",
              "        element.appendChild(docLink);\n",
              "      }\n",
              "    </script>\n",
              "  </div>\n",
              "\n",
              "\n",
              "<div id=\"df-89af2ee9-07cf-4cef-8831-d8e47562b690\">\n",
              "  <button class=\"colab-df-quickchart\" onclick=\"quickchart('df-89af2ee9-07cf-4cef-8831-d8e47562b690')\"\n",
              "            title=\"Suggest charts\"\n",
              "            style=\"display:none;\">\n",
              "\n",
              "<svg xmlns=\"http://www.w3.org/2000/svg\" height=\"24px\"viewBox=\"0 0 24 24\"\n",
              "     width=\"24px\">\n",
              "    <g>\n",
              "        <path d=\"M19 3H5c-1.1 0-2 .9-2 2v14c0 1.1.9 2 2 2h14c1.1 0 2-.9 2-2V5c0-1.1-.9-2-2-2zM9 17H7v-7h2v7zm4 0h-2V7h2v10zm4 0h-2v-4h2v4z\"/>\n",
              "    </g>\n",
              "</svg>\n",
              "  </button>\n",
              "\n",
              "<style>\n",
              "  .colab-df-quickchart {\n",
              "      --bg-color: #E8F0FE;\n",
              "      --fill-color: #1967D2;\n",
              "      --hover-bg-color: #E2EBFA;\n",
              "      --hover-fill-color: #174EA6;\n",
              "      --disabled-fill-color: #AAA;\n",
              "      --disabled-bg-color: #DDD;\n",
              "  }\n",
              "\n",
              "  [theme=dark] .colab-df-quickchart {\n",
              "      --bg-color: #3B4455;\n",
              "      --fill-color: #D2E3FC;\n",
              "      --hover-bg-color: #434B5C;\n",
              "      --hover-fill-color: #FFFFFF;\n",
              "      --disabled-bg-color: #3B4455;\n",
              "      --disabled-fill-color: #666;\n",
              "  }\n",
              "\n",
              "  .colab-df-quickchart {\n",
              "    background-color: var(--bg-color);\n",
              "    border: none;\n",
              "    border-radius: 50%;\n",
              "    cursor: pointer;\n",
              "    display: none;\n",
              "    fill: var(--fill-color);\n",
              "    height: 32px;\n",
              "    padding: 0;\n",
              "    width: 32px;\n",
              "  }\n",
              "\n",
              "  .colab-df-quickchart:hover {\n",
              "    background-color: var(--hover-bg-color);\n",
              "    box-shadow: 0 1px 2px rgba(60, 64, 67, 0.3), 0 1px 3px 1px rgba(60, 64, 67, 0.15);\n",
              "    fill: var(--button-hover-fill-color);\n",
              "  }\n",
              "\n",
              "  .colab-df-quickchart-complete:disabled,\n",
              "  .colab-df-quickchart-complete:disabled:hover {\n",
              "    background-color: var(--disabled-bg-color);\n",
              "    fill: var(--disabled-fill-color);\n",
              "    box-shadow: none;\n",
              "  }\n",
              "\n",
              "  .colab-df-spinner {\n",
              "    border: 2px solid var(--fill-color);\n",
              "    border-color: transparent;\n",
              "    border-bottom-color: var(--fill-color);\n",
              "    animation:\n",
              "      spin 1s steps(1) infinite;\n",
              "  }\n",
              "\n",
              "  @keyframes spin {\n",
              "    0% {\n",
              "      border-color: transparent;\n",
              "      border-bottom-color: var(--fill-color);\n",
              "      border-left-color: var(--fill-color);\n",
              "    }\n",
              "    20% {\n",
              "      border-color: transparent;\n",
              "      border-left-color: var(--fill-color);\n",
              "      border-top-color: var(--fill-color);\n",
              "    }\n",
              "    30% {\n",
              "      border-color: transparent;\n",
              "      border-left-color: var(--fill-color);\n",
              "      border-top-color: var(--fill-color);\n",
              "      border-right-color: var(--fill-color);\n",
              "    }\n",
              "    40% {\n",
              "      border-color: transparent;\n",
              "      border-right-color: var(--fill-color);\n",
              "      border-top-color: var(--fill-color);\n",
              "    }\n",
              "    60% {\n",
              "      border-color: transparent;\n",
              "      border-right-color: var(--fill-color);\n",
              "    }\n",
              "    80% {\n",
              "      border-color: transparent;\n",
              "      border-right-color: var(--fill-color);\n",
              "      border-bottom-color: var(--fill-color);\n",
              "    }\n",
              "    90% {\n",
              "      border-color: transparent;\n",
              "      border-bottom-color: var(--fill-color);\n",
              "    }\n",
              "  }\n",
              "</style>\n",
              "\n",
              "  <script>\n",
              "    async function quickchart(key) {\n",
              "      const quickchartButtonEl =\n",
              "        document.querySelector('#' + key + ' button');\n",
              "      quickchartButtonEl.disabled = true;  // To prevent multiple clicks.\n",
              "      quickchartButtonEl.classList.add('colab-df-spinner');\n",
              "      try {\n",
              "        const charts = await google.colab.kernel.invokeFunction(\n",
              "            'suggestCharts', [key], {});\n",
              "      } catch (error) {\n",
              "        console.error('Error during call to suggestCharts:', error);\n",
              "      }\n",
              "      quickchartButtonEl.classList.remove('colab-df-spinner');\n",
              "      quickchartButtonEl.classList.add('colab-df-quickchart-complete');\n",
              "    }\n",
              "    (() => {\n",
              "      let quickchartButtonEl =\n",
              "        document.querySelector('#df-89af2ee9-07cf-4cef-8831-d8e47562b690 button');\n",
              "      quickchartButtonEl.style.display =\n",
              "        google.colab.kernel.accessAllowed ? 'block' : 'none';\n",
              "    })();\n",
              "  </script>\n",
              "</div>\n",
              "    </div>\n",
              "  </div>\n"
            ]
          },
          "metadata": {},
          "execution_count": 142
        }
      ],
      "source": [
        "# Capturing learning history per epoch\n",
        "hist_4  = pd.DataFrame(hist_cnn_model_2.history)\n",
        "hist_4['epoch'] = hist_cnn_model_2.epoch\n",
        "hist_4.head()"
      ]
    },
    {
      "cell_type": "code",
      "source": [
        "# Plotting accuracy at different epochs\n",
        "plt.plot(hist_4['accuracy'])\n",
        "plt.plot(hist_4['val_accuracy'])\n",
        "plt.title('Model Accuracy')\n",
        "plt.ylabel('Accuracy')\n",
        "plt.xlabel('Epoch')\n",
        "plt.legend(['Train', 'Validation'], loc='upper left')\n",
        "plt.show()"
      ],
      "metadata": {
        "colab": {
          "base_uri": "https://localhost:8080/",
          "height": 472
        },
        "id": "TA22WwVwmUmm",
        "outputId": "612f3ba2-f538-41ef-9b29-a3048c7f115c"
      },
      "execution_count": 143,
      "outputs": [
        {
          "output_type": "display_data",
          "data": {
            "text/plain": [
              "<Figure size 640x480 with 1 Axes>"
            ],
            "image/png": "[encoded data removed]"
          },
          "metadata": {}
        }
      ]
    },
    {
      "cell_type": "markdown",
      "metadata": {
        "id": "Qrrt0Ac3AjQH"
      },
      "source": [
        "**Observations:**\n",
        "1. Model accuracy on training set has decrease slightly compared with the previous model\n",
        "2. however generalization capabilty looks much better, as accuracy on the validation set increased significantlly, almost levelling training set accuracy"
      ]
    },
    {
      "cell_type": "markdown",
      "metadata": {
        "id": "kja4SnOdAjQI"
      },
      "source": [
        "## **Predictions on the test data**\n",
        "\n",
        "- Make predictions on the test set using the second model.\n",
        "- Print the obtained results using the classification report and the confusion matrix.\n",
        "- Final observations on the obtained results."
      ]
    },
    {
      "cell_type": "markdown",
      "metadata": {
        "id": "eHCRwRbgKDN2"
      },
      "source": [
        "### **Make predictions on the test data using the second model.**"
      ]
    },
    {
      "cell_type": "code",
      "execution_count": 145,
      "metadata": {
        "id": "f1d-VvaLAjQI",
        "colab": {
          "base_uri": "https://localhost:8080/"
        },
        "outputId": "e66de50e-5edf-4800-8a67-93180d21484a"
      },
      "outputs": [
        {
          "output_type": "stream",
          "name": "stdout",
          "text": [
            "563/563 [==============================] - 1s 2ms/step\n"
          ]
        },
        {
          "output_type": "execute_result",
          "data": {
            "text/plain": [
              "array([[3.90296662e-03, 9.93530095e-01, 4.65271660e-06, ...,\n",
              "        2.59587076e-04, 1.52906450e-03, 3.25530054e-05],\n",
              "       [2.73848406e-22, 4.41541070e-09, 7.15211996e-08, ...,\n",
              "        9.99999881e-01, 1.26168570e-22, 8.56828454e-22],\n",
              "       [2.31562348e-24, 1.90723679e-17, 1.00000000e+00, ...,\n",
              "        8.77194774e-14, 1.10851769e-22, 7.89599673e-24],\n",
              "       ...,\n",
              "       [2.38728973e-15, 5.04857553e-07, 1.01763720e-09, ...,\n",
              "        9.99999523e-01, 1.27042728e-14, 3.97099379e-15],\n",
              "       [2.75774655e-04, 7.27979495e-05, 3.88337416e-03, ...,\n",
              "        1.49841813e-04, 1.20554514e-01, 9.66626853e-02],\n",
              "       [4.43152910e-11, 8.26932774e-06, 9.90043759e-01, ...,\n",
              "        9.94795747e-03, 3.02886947e-13, 6.60837053e-13]], dtype=float32)"
            ]
          },
          "metadata": {},
          "execution_count": 145
        }
      ],
      "source": [
        "y_pred_cnn2 = cnn_model_2.predict(X_test_norm)\n",
        "y_pred_cnn2"
      ]
    },
    {
      "cell_type": "markdown",
      "metadata": {
        "id": "DrV1tOG0AjQI"
      },
      "source": [
        "**Note:** Earlier, we noticed that each entry of the target variable is a one-hot encoded vector, but to print the classification report and confusion matrix, we must convert each entry of y_test to a single label."
      ]
    },
    {
      "cell_type": "code",
      "execution_count": 146,
      "metadata": {
        "id": "dUSHU9W0AjQI",
        "colab": {
          "base_uri": "https://localhost:8080/"
        },
        "outputId": "9e230670-21ec-49ac-9b3c-752de31734db"
      },
      "outputs": [
        {
          "output_type": "execute_result",
          "data": {
            "text/plain": [
              "array([1, 7, 2, ..., 7, 3, 2])"
            ]
          },
          "metadata": {},
          "execution_count": 146
        }
      ],
      "source": [
        "y_pred_cnn2 = np.argmax(y_pred_cnn2, axis = 1)\n",
        "y_pred_cnn2"
      ]
    },
    {
      "cell_type": "code",
      "source": [
        "y_pred_cnn2[7]"
      ],
      "metadata": {
        "colab": {
          "base_uri": "https://localhost:8080/"
        },
        "id": "LtxJ9Z_vnhda",
        "outputId": "d831e5d8-a7f3-4a76-e6e3-e7b78d96fee8"
      },
      "execution_count": 147,
      "outputs": [
        {
          "output_type": "execute_result",
          "data": {
            "text/plain": [
              "8"
            ]
          },
          "metadata": {},
          "execution_count": 147
        }
      ]
    },
    {
      "cell_type": "markdown",
      "metadata": {
        "id": "aVCa-ysWKDN3"
      },
      "source": [
        "### **Write your final observations on the performance of the model on the test data.**"
      ]
    },
    {
      "cell_type": "code",
      "execution_count": 148,
      "metadata": {
        "id": "sOMq2rCJAjQJ",
        "colab": {
          "base_uri": "https://localhost:8080/"
        },
        "outputId": "a13274fe-9ebf-4ad8-97ea-7c60666ff340"
      },
      "outputs": [
        {
          "output_type": "stream",
          "name": "stdout",
          "text": [
            "563/563 [==============================] - 2s 3ms/step - loss: 0.4566 - accuracy: 0.9126\n"
          ]
        },
        {
          "output_type": "execute_result",
          "data": {
            "text/plain": [
              "[0.45658060908317566, 0.9125555753707886]"
            ]
          },
          "metadata": {},
          "execution_count": 148
        }
      ],
      "source": [
        "cnn_model_2.evaluate(X_test_norm, y_test_encoded)"
      ]
    },
    {
      "cell_type": "code",
      "source": [
        "metrics_score(y_test,y_pred_cnn2 )"
      ],
      "metadata": {
        "colab": {
          "base_uri": "https://localhost:8080/",
          "height": 760
        },
        "id": "l-DnhSpdn-Pg",
        "outputId": "4c084442-48d7-4c11-8cbd-fde8faf67ed9"
      },
      "execution_count": 149,
      "outputs": [
        {
          "output_type": "stream",
          "name": "stdout",
          "text": [
            "              precision    recall  f1-score   support\n",
            "\n",
            "           0       0.87      0.96      0.91      1814\n",
            "           1       0.92      0.91      0.92      1828\n",
            "           2       0.92      0.92      0.92      1803\n",
            "           3       0.92      0.88      0.90      1719\n",
            "           4       0.92      0.93      0.93      1812\n",
            "           5       0.93      0.90      0.91      1768\n",
            "           6       0.88      0.92      0.90      1832\n",
            "           7       0.94      0.93      0.93      1808\n",
            "           8       0.94      0.87      0.91      1812\n",
            "           9       0.90      0.91      0.90      1804\n",
            "\n",
            "    accuracy                           0.91     18000\n",
            "   macro avg       0.91      0.91      0.91     18000\n",
            "weighted avg       0.91      0.91      0.91     18000\n",
            "\n"
          ]
        },
        {
          "output_type": "display_data",
          "data": {
            "text/plain": [
              "<Figure size 800x500 with 2 Axes>"
            ],
            "image/png": "[encoded data removed]"
          },
          "metadata": {}
        }
      ]
    },
    {
      "cell_type": "markdown",
      "metadata": {
        "id": "TNN9v713AjQJ"
      },
      "source": [
        "**Final Observations:**\n",
        "1. second cnn_model is perfomaing by far best of all the above presented models\n",
        "2. precision, recall and accuracy and much improved compared with second ann_model\n",
        "3. meaning the model is much better at recognizing the definig features of each digit\n",
        "4. however the model performance could be improved further, one good way could be increasing the training dataset population\n"
      ]
    }
  ],
  "metadata": {
    "accelerator": "GPU",
    "colab": {
      "provenance": [],
      "gpuType": "T4"
    },
    "kernelspec": {
      "display_name": "Python 3",
      "name": "python3"
    },
    "language_info": {
      "codemirror_mode": {
        "name": "ipython",
        "version": 3
      },
      "file_extension": ".py",
      "mimetype": "text/x-python",
      "name": "python",
      "nbconvert_exporter": "python",
      "pygments_lexer": "ipython3",
      "version": "3.9.7"
    }
  },
  "nbformat": 4,
  "nbformat_minor": 0
}